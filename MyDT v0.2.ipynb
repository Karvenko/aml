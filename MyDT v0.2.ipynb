{
 "cells": [
  {
   "cell_type": "code",
   "execution_count": 1,
   "metadata": {},
   "outputs": [],
   "source": [
    "import numpy as np"
   ]
  },
  {
   "cell_type": "code",
   "execution_count": 2,
   "metadata": {},
   "outputs": [],
   "source": [
    "#Function for Gini calculation\n",
    "def Gini(classes):\n",
    "    \n",
    "    size = len(classes)\n",
    "    \n",
    "    class_set = set(classes)\n",
    "    class_count = {}\n",
    "    for cur in class_set:\n",
    "        class_count[cur] = 0\n",
    "        \n",
    "    for cur in classes:\n",
    "        class_count[cur] += 1.0\n",
    "    \n",
    "    g_metric = 0\n",
    "    for cur in class_count.keys():\n",
    "        pk = class_count[cur] / size\n",
    "        g_metric += pk * (1-pk)\n",
    "        \n",
    "    return g_metric"
   ]
  },
  {
   "cell_type": "code",
   "execution_count": 3,
   "metadata": {},
   "outputs": [],
   "source": [
    "#Function for IG calculation\n",
    "def IG(values, classes, split, curr_Gini):\n",
    "    left_vals = []\n",
    "    left_class = []\n",
    "    right_vals = []\n",
    "    right_class = []\n",
    "    \n",
    "    for idx in range(len(values)):\n",
    "        if values[idx] <= split:\n",
    "            left_vals.append(values[idx])\n",
    "            left_class.append(classes[idx])\n",
    "        else:\n",
    "            right_vals.append(values[idx])\n",
    "            right_class.append(classes[idx])\n",
    "            \n",
    "#     print(Gini(left_class))\n",
    "#     print(Gini(right_class))\n",
    "    IG_val = curr_Gini - len(left_vals) * Gini(left_class)/len(values) - len(right_vals) * Gini(right_class) / len(values)\n",
    "    return IG_val"
   ]
  },
  {
   "cell_type": "code",
   "execution_count": 4,
   "metadata": {},
   "outputs": [],
   "source": [
    "#Selecting best split for one column\n",
    "def FindBestSplit(values, classes):\n",
    "    init_Gini = Gini(classes)\n",
    "    best_IG = -100000000\n",
    "    \n",
    "    splits = []\n",
    "    \n",
    "    unique_vals = sorted(set(values))\n",
    "    if len(unique_vals) <= 1:\n",
    "        return unique_vals, best_IG\n",
    "    \n",
    "    for idx in range(len(unique_vals)-1):\n",
    "        splits.append((unique_vals[idx]+unique_vals[idx+1])/2)\n",
    "        \n",
    "    for cur in splits:\n",
    "        cur_IG = IG(values, classes, cur, init_Gini)\n",
    "        if cur_IG > best_IG:\n",
    "            best_IG = cur_IG\n",
    "            best_split = cur\n",
    "            \n",
    "    return best_split, best_IG"
   ]
  },
  {
   "cell_type": "code",
   "execution_count": 5,
   "metadata": {},
   "outputs": [],
   "source": [
    "#SImple tree class for our decision tree\n",
    "class DT():\n",
    "    \n",
    "    def __init__(self, param_num, gini, split):\n",
    "        self.left = None\n",
    "        self.right = None\n",
    "        self.param_num = param_num\n",
    "        self.gini = gini\n",
    "        self.split = split\n",
    "        self.predict_class = -1\n",
    "\n",
    "#Print function - just for debug\n",
    "    def print_tree(self):\n",
    "        print(self.gini, self.param_num, self.split, self.predict_class)\n",
    "        \n",
    "        if self.left:\n",
    "            self.left.print_tree()\n",
    "            \n",
    "        if self.right:\n",
    "            self.right.print_tree()"
   ]
  },
  {
   "cell_type": "code",
   "execution_count": 6,
   "metadata": {},
   "outputs": [],
   "source": [
    "#Main clasifier\n",
    "class DT_classifier():\n",
    "    \n",
    "    def __init__(self, max_depth=-1):\n",
    "        self.max_depth = max_depth\n",
    "#         self.tree = DT()\n",
    "\n",
    "#Internal fitting function\n",
    "    def dt_fit(self, X, y, cur_depth, max_depth):\n",
    "    \n",
    "        best_IG = -1000000000\n",
    "        features_num = X.shape[1]\n",
    "        left_X = []\n",
    "        left_y = []\n",
    "        right_X = []\n",
    "        right_y = []\n",
    "\n",
    "        #If Gini == 0 - no more splits required\n",
    "        if Gini(y) == 0:\n",
    "            result = DT(0, 0, 0)\n",
    "            result.predict_class = y[0]\n",
    "            return result\n",
    "        \n",
    "        #Checking for max depth and returning most probable class if exceed\n",
    "        if cur_depth >= max_depth and max_depth != -1:\n",
    "            class_set = set(y)\n",
    "            class_count = {}\n",
    "            for cur in class_set:\n",
    "                class_count[cur] = 0\n",
    "\n",
    "            for cur in y:\n",
    "                class_count[cur] += 1.0\n",
    "                \n",
    "            best_class_count = 0\n",
    "            for key, val in class_count.items():\n",
    "                if val > best_class_count:\n",
    "                    return_class = key\n",
    "            result = DT(0, 0, 0)\n",
    "            result.predict_class = return_class\n",
    "            return result\n",
    "\n",
    "        #Checking all columns for best split\n",
    "        for i in range(features_num):\n",
    "            cur_split, cur_IG = FindBestSplit(X[:,i], y)\n",
    "            if cur_IG > best_IG:\n",
    "                best_IG = cur_IG\n",
    "                best_split = cur_split\n",
    "                best_feature = i\n",
    "\n",
    "#         print(best_IG, best_split, best_feature)\n",
    "\n",
    "        #Creating left & right arrays according to best split selection\n",
    "        for i in range(X.shape[0]):\n",
    "            if X[i][best_feature] < best_split:\n",
    "                left_X.append(X[i])\n",
    "                left_y.append(y[i])\n",
    "            else:\n",
    "                right_X.append(X[i])\n",
    "                right_y.append(y[i])\n",
    "\n",
    "#         print(np.array(left_X))\n",
    "#         print(np.array(left_X).shape)\n",
    "#         print(np.array(right_X))\n",
    "#         print(np.array(right_X).shape)\n",
    "        #Recursion!!\n",
    "        result = DT(best_feature, best_IG, best_split)\n",
    "        result.left = self.dt_fit(np.array(left_X), np.array(left_y), cur_depth+1, max_depth)\n",
    "        result.right = self.dt_fit(np.array(right_X), np.array(right_y), cur_depth+1, max_depth)\n",
    "\n",
    "        return result\n",
    "    \n",
    "    #Wrapper function for fit - need to update class information\n",
    "    def fit(self, X, y):\n",
    "        self.tree = self.dt_fit(X, y, 0, self.max_depth)\n",
    "    \n",
    "    #Internal fit function - just walk through the tree. Stop if Gini == 0\n",
    "    def dt_predict(self, x, dtree):\n",
    "        if dtree.gini == 0:\n",
    "            return dtree.predict_class\n",
    "\n",
    "        if x[dtree.param_num] < dtree.split:\n",
    "            return self.dt_predict(x, dtree.left)\n",
    "        else:\n",
    "            return self.dt_predict(x, dtree.right)\n",
    "    \n",
    "    #Wrapper function for internal predict\n",
    "    def predict(self, x):\n",
    "        return self.dt_predict(x, self.tree)"
   ]
  },
  {
   "cell_type": "code",
   "execution_count": 7,
   "metadata": {},
   "outputs": [
    {
     "data": {
      "text/plain": [
       "array([[1, 1],\n",
       "       [1, 2],\n",
       "       [1, 3],\n",
       "       [2, 1],\n",
       "       [2, 2],\n",
       "       [2, 3],\n",
       "       [3, 1],\n",
       "       [3, 2],\n",
       "       [3, 3]])"
      ]
     },
     "execution_count": 7,
     "metadata": {},
     "output_type": "execute_result"
    }
   ],
   "source": [
    "A = np.array([[1,1], [1,2], [1,3], [2,1], [2,2], [2,3], [3,1], [3,2], [3,3]])\n",
    "A"
   ]
  },
  {
   "cell_type": "code",
   "execution_count": 8,
   "metadata": {},
   "outputs": [],
   "source": [
    "y = np.array([1, 1, 2, 0, 1, 1, 4, 0, 1])"
   ]
  },
  {
   "cell_type": "code",
   "execution_count": 13,
   "metadata": {},
   "outputs": [],
   "source": [
    "model = DT_classifier(max_depth=2)"
   ]
  },
  {
   "cell_type": "code",
   "execution_count": 14,
   "metadata": {},
   "outputs": [],
   "source": [
    "model.fit(A, y)"
   ]
  },
  {
   "cell_type": "code",
   "execution_count": 15,
   "metadata": {},
   "outputs": [
    {
     "data": {
      "text/plain": [
       "4"
      ]
     },
     "execution_count": 15,
     "metadata": {},
     "output_type": "execute_result"
    }
   ],
   "source": [
    "model.predict([3,0])"
   ]
  },
  {
   "cell_type": "code",
   "execution_count": 16,
   "metadata": {},
   "outputs": [
    {
     "name": "stdout",
     "output_type": "stream",
     "text": [
      "0.06172839506172839 0 2.5 -1\n",
      "0.08333333333333337 1 1.5 -1\n",
      "0 0 0 1\n",
      "0 0 0 2\n",
      "0.3333333333333334 1 1.5 -1\n",
      "0 0 0 4\n",
      "0 0 0 1\n"
     ]
    }
   ],
   "source": [
    "model.tree.print_tree()"
   ]
  },
  {
   "cell_type": "code",
   "execution_count": null,
   "metadata": {},
   "outputs": [],
   "source": []
  }
 ],
 "metadata": {
  "kernelspec": {
   "display_name": "Python 3",
   "language": "python",
   "name": "python3"
  },
  "language_info": {
   "codemirror_mode": {
    "name": "ipython",
    "version": 3
   },
   "file_extension": ".py",
   "mimetype": "text/x-python",
   "name": "python",
   "nbconvert_exporter": "python",
   "pygments_lexer": "ipython3",
   "version": "3.7.3"
  }
 },
 "nbformat": 4,
 "nbformat_minor": 4
}
