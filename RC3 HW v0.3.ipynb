{
 "cells": [
  {
   "cell_type": "code",
   "execution_count": 32,
   "metadata": {},
   "outputs": [],
   "source": [
    "import pandas as pd\n",
    "import numpy as np\n",
    "import matplotlib.pyplot as plt\n",
    "\n",
    "from tqdm import tqdm_notebook\n",
    "\n",
    "from surprise import Dataset, Reader, KNNBasic\n",
    "from surprise.model_selection import train_test_split, KFold\n",
    "from surprise import accuracy\n",
    "\n",
    "import matplotlib.pyplot as plt\n",
    "%matplotlib inline"
   ]
  },
  {
   "cell_type": "code",
   "execution_count": 3,
   "metadata": {},
   "outputs": [],
   "source": [
    "# movies = pd.read_csv(\"ml-1m/movies.dat\", sep='::', header=None, names=['movieid', 'moviename', 'genre'])\n",
    "# ratings = pd.read_csv(\"ml-1m/ratings.dat\", sep='::', header=None, names=['userid', 'movieid', 'rating', 'timestamp'])\n",
    "\n",
    "# Will use 100k dataset\n",
    "movies = pd.read_csv('movies_100k.csv')\n",
    "ratings = pd.read_csv('ratings_100k.csv')"
   ]
  },
  {
   "cell_type": "code",
   "execution_count": 4,
   "metadata": {},
   "outputs": [
    {
     "data": {
      "text/html": [
       "<div>\n",
       "<style scoped>\n",
       "    .dataframe tbody tr th:only-of-type {\n",
       "        vertical-align: middle;\n",
       "    }\n",
       "\n",
       "    .dataframe tbody tr th {\n",
       "        vertical-align: top;\n",
       "    }\n",
       "\n",
       "    .dataframe thead th {\n",
       "        text-align: right;\n",
       "    }\n",
       "</style>\n",
       "<table border=\"1\" class=\"dataframe\">\n",
       "  <thead>\n",
       "    <tr style=\"text-align: right;\">\n",
       "      <th></th>\n",
       "      <th>movieId</th>\n",
       "      <th>title</th>\n",
       "      <th>genres</th>\n",
       "    </tr>\n",
       "  </thead>\n",
       "  <tbody>\n",
       "    <tr>\n",
       "      <th>0</th>\n",
       "      <td>1</td>\n",
       "      <td>Toy Story (1995)</td>\n",
       "      <td>Adventure|Animation|Children|Comedy|Fantasy</td>\n",
       "    </tr>\n",
       "    <tr>\n",
       "      <th>1</th>\n",
       "      <td>2</td>\n",
       "      <td>Jumanji (1995)</td>\n",
       "      <td>Adventure|Children|Fantasy</td>\n",
       "    </tr>\n",
       "    <tr>\n",
       "      <th>2</th>\n",
       "      <td>3</td>\n",
       "      <td>Grumpier Old Men (1995)</td>\n",
       "      <td>Comedy|Romance</td>\n",
       "    </tr>\n",
       "    <tr>\n",
       "      <th>3</th>\n",
       "      <td>4</td>\n",
       "      <td>Waiting to Exhale (1995)</td>\n",
       "      <td>Comedy|Drama|Romance</td>\n",
       "    </tr>\n",
       "    <tr>\n",
       "      <th>4</th>\n",
       "      <td>5</td>\n",
       "      <td>Father of the Bride Part II (1995)</td>\n",
       "      <td>Comedy</td>\n",
       "    </tr>\n",
       "  </tbody>\n",
       "</table>\n",
       "</div>"
      ],
      "text/plain": [
       "   movieId                               title  \\\n",
       "0        1                    Toy Story (1995)   \n",
       "1        2                      Jumanji (1995)   \n",
       "2        3             Grumpier Old Men (1995)   \n",
       "3        4            Waiting to Exhale (1995)   \n",
       "4        5  Father of the Bride Part II (1995)   \n",
       "\n",
       "                                        genres  \n",
       "0  Adventure|Animation|Children|Comedy|Fantasy  \n",
       "1                   Adventure|Children|Fantasy  \n",
       "2                               Comedy|Romance  \n",
       "3                         Comedy|Drama|Romance  \n",
       "4                                       Comedy  "
      ]
     },
     "execution_count": 4,
     "metadata": {},
     "output_type": "execute_result"
    }
   ],
   "source": [
    "movies.head()"
   ]
  },
  {
   "cell_type": "code",
   "execution_count": 5,
   "metadata": {},
   "outputs": [
    {
     "data": {
      "text/html": [
       "<div>\n",
       "<style scoped>\n",
       "    .dataframe tbody tr th:only-of-type {\n",
       "        vertical-align: middle;\n",
       "    }\n",
       "\n",
       "    .dataframe tbody tr th {\n",
       "        vertical-align: top;\n",
       "    }\n",
       "\n",
       "    .dataframe thead th {\n",
       "        text-align: right;\n",
       "    }\n",
       "</style>\n",
       "<table border=\"1\" class=\"dataframe\">\n",
       "  <thead>\n",
       "    <tr style=\"text-align: right;\">\n",
       "      <th></th>\n",
       "      <th>userId</th>\n",
       "      <th>movieId</th>\n",
       "      <th>rating</th>\n",
       "      <th>timestamp</th>\n",
       "    </tr>\n",
       "  </thead>\n",
       "  <tbody>\n",
       "    <tr>\n",
       "      <th>0</th>\n",
       "      <td>1</td>\n",
       "      <td>1</td>\n",
       "      <td>4.0</td>\n",
       "      <td>964982703</td>\n",
       "    </tr>\n",
       "    <tr>\n",
       "      <th>1</th>\n",
       "      <td>1</td>\n",
       "      <td>3</td>\n",
       "      <td>4.0</td>\n",
       "      <td>964981247</td>\n",
       "    </tr>\n",
       "    <tr>\n",
       "      <th>2</th>\n",
       "      <td>1</td>\n",
       "      <td>6</td>\n",
       "      <td>4.0</td>\n",
       "      <td>964982224</td>\n",
       "    </tr>\n",
       "    <tr>\n",
       "      <th>3</th>\n",
       "      <td>1</td>\n",
       "      <td>47</td>\n",
       "      <td>5.0</td>\n",
       "      <td>964983815</td>\n",
       "    </tr>\n",
       "    <tr>\n",
       "      <th>4</th>\n",
       "      <td>1</td>\n",
       "      <td>50</td>\n",
       "      <td>5.0</td>\n",
       "      <td>964982931</td>\n",
       "    </tr>\n",
       "  </tbody>\n",
       "</table>\n",
       "</div>"
      ],
      "text/plain": [
       "   userId  movieId  rating  timestamp\n",
       "0       1        1     4.0  964982703\n",
       "1       1        3     4.0  964981247\n",
       "2       1        6     4.0  964982224\n",
       "3       1       47     5.0  964983815\n",
       "4       1       50     5.0  964982931"
      ]
     },
     "execution_count": 5,
     "metadata": {},
     "output_type": "execute_result"
    }
   ],
   "source": [
    "ratings.head()"
   ]
  },
  {
   "cell_type": "code",
   "execution_count": 6,
   "metadata": {},
   "outputs": [],
   "source": [
    "# del movies['genre']\n",
    "del ratings['timestamp']"
   ]
  },
  {
   "cell_type": "code",
   "execution_count": 10,
   "metadata": {},
   "outputs": [],
   "source": [
    "ratings.columns = ['uid', 'iid', 'rating']"
   ]
  },
  {
   "cell_type": "code",
   "execution_count": 11,
   "metadata": {},
   "outputs": [],
   "source": [
    "reader = Reader(rating_scale=(0.5, 5))"
   ]
  },
  {
   "cell_type": "code",
   "execution_count": 12,
   "metadata": {},
   "outputs": [],
   "source": [
    "dataset = Dataset.load_from_df(ratings, reader)"
   ]
  },
  {
   "cell_type": "code",
   "execution_count": 13,
   "metadata": {},
   "outputs": [],
   "source": [
    "#Working wit KNNs\n",
    "from surprise import KNNBaseline, KNNBasic, KNNWithMeans, KNNWithZScore"
   ]
  },
  {
   "cell_type": "code",
   "execution_count": 16,
   "metadata": {},
   "outputs": [],
   "source": [
    "trainset, testset = train_test_split(dataset, test_size=0.2)"
   ]
  },
  {
   "cell_type": "code",
   "execution_count": 17,
   "metadata": {},
   "outputs": [
    {
     "name": "stdout",
     "output_type": "stream",
     "text": [
      "<class 'surprise.prediction_algorithms.knns.KNNBaseline'>\n",
      "Estimating biases using als...\n",
      "Computing the pearson_baseline similarity matrix...\n",
      "Done computing similarity matrix.\n",
      "RMSE: 0.8532\n",
      "<class 'surprise.prediction_algorithms.knns.KNNBasic'>\n",
      "Estimating biases using als...\n",
      "Computing the pearson_baseline similarity matrix...\n",
      "Done computing similarity matrix.\n",
      "RMSE: 0.9185\n",
      "<class 'surprise.prediction_algorithms.knns.KNNWithMeans'>\n",
      "Estimating biases using als...\n",
      "Computing the pearson_baseline similarity matrix...\n",
      "Done computing similarity matrix.\n",
      "RMSE: 0.8843\n",
      "<class 'surprise.prediction_algorithms.knns.KNNWithZScore'>\n",
      "Estimating biases using als...\n",
      "Computing the pearson_baseline similarity matrix...\n",
      "Done computing similarity matrix.\n",
      "RMSE: 0.8902\n"
     ]
    }
   ],
   "source": [
    "models = [KNNBaseline, KNNBasic, KNNWithMeans, KNNWithZScore]\n",
    "\n",
    "for cur_model in models:\n",
    "    print(cur_model)\n",
    "    algo = cur_model(k=40, sim_options={'name': 'pearson_baseline', 'user_based': False})\n",
    "    algo.fit(trainset)\n",
    "    predictions = algo.test(testset)\n",
    "    accuracy.rmse(predictions)\n",
    "    "
   ]
  },
  {
   "cell_type": "markdown",
   "metadata": {},
   "source": [
    "Best result - RMSE: 0.8532 for KNNBaseline model"
   ]
  },
  {
   "cell_type": "code",
   "execution_count": 18,
   "metadata": {},
   "outputs": [],
   "source": [
    "#Working with some other algorithms\n",
    "from surprise.prediction_algorithms import SVD, SVDpp, SlopeOne, NMF, CoClustering\n"
   ]
  },
  {
   "cell_type": "code",
   "execution_count": 19,
   "metadata": {},
   "outputs": [
    {
     "name": "stdout",
     "output_type": "stream",
     "text": [
      "<class 'surprise.prediction_algorithms.matrix_factorization.SVD'>\n",
      "RMSE: 0.8709\n",
      "<class 'surprise.prediction_algorithms.matrix_factorization.SVDpp'>\n",
      "RMSE: 0.8564\n",
      "<class 'surprise.prediction_algorithms.slope_one.SlopeOne'>\n",
      "RMSE: 0.9000\n",
      "<class 'surprise.prediction_algorithms.matrix_factorization.NMF'>\n",
      "RMSE: 0.9188\n",
      "<class 'surprise.prediction_algorithms.co_clustering.CoClustering'>\n",
      "RMSE: 0.9458\n"
     ]
    }
   ],
   "source": [
    "models = [SVD, SVDpp, SlopeOne, NMF, CoClustering]\n",
    "\n",
    "for cur_model in models:\n",
    "    print(cur_model)\n",
    "    algo = cur_model()\n",
    "    algo.fit(trainset)\n",
    "    predictions = algo.test(testset)\n",
    "    accuracy.rmse(predictions)"
   ]
  },
  {
   "cell_type": "markdown",
   "metadata": {},
   "source": [
    "Best result - RMSE: 0.8564 for SVDpp"
   ]
  },
  {
   "cell_type": "code",
   "execution_count": 21,
   "metadata": {},
   "outputs": [
    {
     "name": "stdout",
     "output_type": "stream",
     "text": [
      "<class 'surprise.prediction_algorithms.matrix_factorization.SVD'>\n",
      "RMSE: 0.8694\n",
      "<class 'surprise.prediction_algorithms.matrix_factorization.NMF'>\n",
      "RMSE: 1.0776\n"
     ]
    }
   ],
   "source": [
    "#Let's try with baselines\n",
    "models = [SVD, NMF]\n",
    "\n",
    "for cur_model in models:\n",
    "    print(cur_model)\n",
    "    algo = cur_model(biased=True)\n",
    "    algo.fit(trainset)\n",
    "    predictions = algo.test(testset)\n",
    "    accuracy.rmse(predictions)"
   ]
  },
  {
   "cell_type": "markdown",
   "metadata": {},
   "source": [
    "Winner are RMSE: 0.8532 for KNNBaseline & RMSE: 0.8564 for SVDpp\n",
    "Let's do CV for KNNBaseline (SVDpp too slow)"
   ]
  },
  {
   "cell_type": "code",
   "execution_count": 23,
   "metadata": {},
   "outputs": [],
   "source": [
    "kfold = KFold(5)"
   ]
  },
  {
   "cell_type": "code",
   "execution_count": 24,
   "metadata": {},
   "outputs": [
    {
     "data": {
      "application/vnd.jupyter.widget-view+json": {
       "model_id": "5e59d22a3fe34484ab5988e3f9dc4365",
       "version_major": 2,
       "version_minor": 0
      },
      "text/plain": [
       "HBox(children=(IntProgress(value=1, bar_style='info', max=1), HTML(value='')))"
      ]
     },
     "metadata": {},
     "output_type": "display_data"
    },
    {
     "name": "stdout",
     "output_type": "stream",
     "text": [
      "Estimating biases using als...\n",
      "Computing the pearson_baseline similarity matrix...\n",
      "Done computing similarity matrix.\n",
      "RMSE: 0.8546\n",
      "Estimating biases using als...\n",
      "Computing the pearson_baseline similarity matrix...\n",
      "Done computing similarity matrix.\n",
      "RMSE: 0.8482\n",
      "Estimating biases using als...\n",
      "Computing the pearson_baseline similarity matrix...\n",
      "Done computing similarity matrix.\n",
      "RMSE: 0.8584\n",
      "Estimating biases using als...\n",
      "Computing the pearson_baseline similarity matrix...\n",
      "Done computing similarity matrix.\n",
      "RMSE: 0.8501\n",
      "Estimating biases using als...\n",
      "Computing the pearson_baseline similarity matrix...\n",
      "Done computing similarity matrix.\n",
      "RMSE: 0.8523\n",
      "\n"
     ]
    }
   ],
   "source": [
    "scores = []\n",
    "for trainset, testset in tqdm_notebook(kfold.split(dataset)):\n",
    "    algo = KNNBaseline(k=40, sim_options={'name': 'pearson_baseline', 'user_based': False})\n",
    "    algo.fit(trainset)\n",
    "    predictions = algo.test(testset)\n",
    "    scores.append(accuracy.rmse(predictions))"
   ]
  },
  {
   "cell_type": "code",
   "execution_count": 29,
   "metadata": {},
   "outputs": [
    {
     "name": "stdout",
     "output_type": "stream",
     "text": [
      "Current i: 5\n",
      "RMSE: 0.8857\n",
      "RMSE: 0.8933\n",
      "RMSE: 0.8989\n",
      "RMSE: 0.8889\n",
      "RMSE: 0.8829\n",
      "Current i: 10\n",
      "RMSE: 0.8661\n",
      "RMSE: 0.8658\n",
      "RMSE: 0.8610\n",
      "RMSE: 0.8639\n",
      "RMSE: 0.8623\n",
      "Current i: 15\n",
      "RMSE: 0.8555\n",
      "RMSE: 0.8488\n",
      "RMSE: 0.8551\n",
      "RMSE: 0.8603\n",
      "RMSE: 0.8629\n",
      "Current i: 20\n",
      "RMSE: 0.8578\n",
      "RMSE: 0.8556\n",
      "RMSE: 0.8527\n",
      "RMSE: 0.8528\n",
      "RMSE: 0.8530\n",
      "Current i: 25\n",
      "RMSE: 0.8458\n",
      "RMSE: 0.8540\n",
      "RMSE: 0.8653\n",
      "RMSE: 0.8484\n",
      "RMSE: 0.8518\n",
      "Current i: 30\n",
      "RMSE: 0.8555\n",
      "RMSE: 0.8602\n",
      "RMSE: 0.8537\n",
      "RMSE: 0.8445\n",
      "RMSE: 0.8483\n",
      "Current i: 35\n",
      "RMSE: 0.8452\n",
      "RMSE: 0.8480\n",
      "RMSE: 0.8539\n",
      "RMSE: 0.8547\n",
      "RMSE: 0.8559\n",
      "Current i: 40\n",
      "RMSE: 0.8509\n",
      "RMSE: 0.8507\n",
      "RMSE: 0.8545\n",
      "RMSE: 0.8544\n",
      "RMSE: 0.8498\n",
      "Current i: 45\n",
      "RMSE: 0.8592\n",
      "RMSE: 0.8483\n",
      "RMSE: 0.8454\n",
      "RMSE: 0.8519\n",
      "RMSE: 0.8576\n",
      "Current i: 50\n",
      "RMSE: 0.8520\n",
      "RMSE: 0.8501\n",
      "RMSE: 0.8475\n",
      "RMSE: 0.8622\n",
      "RMSE: 0.8501\n",
      "Current i: 55\n",
      "RMSE: 0.8544\n",
      "RMSE: 0.8430\n",
      "RMSE: 0.8407\n",
      "RMSE: 0.8599\n",
      "RMSE: 0.8628\n",
      "Current i: 60\n",
      "RMSE: 0.8543\n",
      "RMSE: 0.8541\n",
      "RMSE: 0.8541\n",
      "RMSE: 0.8526\n",
      "RMSE: 0.8502\n",
      "Current i: 65\n",
      "RMSE: 0.8430\n",
      "RMSE: 0.8480\n",
      "RMSE: 0.8548\n",
      "RMSE: 0.8530\n",
      "RMSE: 0.8640\n",
      "Current i: 70\n",
      "RMSE: 0.8582\n",
      "RMSE: 0.8535\n",
      "RMSE: 0.8504\n",
      "RMSE: 0.8401\n",
      "RMSE: 0.8562\n",
      "Current i: 75\n",
      "RMSE: 0.8477\n",
      "RMSE: 0.8586\n",
      "RMSE: 0.8572\n",
      "RMSE: 0.8491\n",
      "RMSE: 0.8544\n"
     ]
    }
   ],
   "source": [
    "#Let's select optimal number of neghbourghs\n",
    "scores = []\n",
    "for i in range(5, 80, 5):\n",
    "    print('Current i:', i)\n",
    "    cur_scores = []\n",
    "    for trainset, testset in kfold.split(dataset):\n",
    "        algo = KNNBaseline(k=i, sim_options={'name': 'pearson_baseline', 'user_based': False}, verbose=False)\n",
    "        algo.fit(trainset)\n",
    "        predictions = algo.test(testset, verbose=False)\n",
    "        cur_scores.append(accuracy.rmse(predictions))\n",
    "    \n",
    "    scores.append(np.mean(cur_scores))"
   ]
  },
  {
   "cell_type": "code",
   "execution_count": 33,
   "metadata": {},
   "outputs": [
    {
     "data": {
      "text/plain": [
       "[<matplotlib.lines.Line2D at 0xe6dfef0>]"
      ]
     },
     "execution_count": 33,
     "metadata": {},
     "output_type": "execute_result"
    },
    {
     "data": {
      "image/png": "[encoded data removed]",
      "text/plain": [
       "<Figure size 432x288 with 1 Axes>"
      ]
     },
     "metadata": {
      "needs_background": "light"
     },
     "output_type": "display_data"
    }
   ],
   "source": [
    "plt.plot(range(5, 80, 5), scores)"
   ]
  },
  {
   "cell_type": "markdown",
   "metadata": {},
   "source": [
    "## Наилучший результат у модели KNNBaseline(k=35, sim_options={'name': 'pearson_baseline', 'user_based': False}). Резултат кросс-валидации -0.8515221682920865 "
   ]
  },
  {
   "cell_type": "code",
   "execution_count": null,
   "metadata": {},
   "outputs": [],
   "source": []
  }
 ],
 "metadata": {
  "kernelspec": {
   "display_name": "Python 3",
   "language": "python",
   "name": "python3"
  },
  "language_info": {
   "codemirror_mode": {
    "name": "ipython",
    "version": 3
   },
   "file_extension": ".py",
   "mimetype": "text/x-python",
   "name": "python",
   "nbconvert_exporter": "python",
   "pygments_lexer": "ipython3",
   "version": "3.7.3"
  }
 },
 "nbformat": 4,
 "nbformat_minor": 4
}
