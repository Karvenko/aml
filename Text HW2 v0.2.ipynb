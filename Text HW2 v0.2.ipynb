{
 "cells": [
  {
   "cell_type": "code",
   "execution_count": 1,
   "metadata": {},
   "outputs": [],
   "source": [
    "import re\n",
    "import tqdm\n",
    "from scipy import sparse"
   ]
  },
  {
   "cell_type": "code",
   "execution_count": 2,
   "metadata": {},
   "outputs": [
    {
     "name": "stdout",
     "output_type": "stream",
     "text": [
      "Populating the interactive namespace from numpy and matplotlib\n"
     ]
    }
   ],
   "source": [
    "import pandas as pd\n",
    "import numpy as np\n",
    "import nltk\n",
    "import matplotlib.pyplot as plt\n",
    "import seaborn as sns\n",
    "%matplotlib inline\n",
    "%pylab inline"
   ]
  },
  {
   "cell_type": "code",
   "execution_count": 3,
   "metadata": {},
   "outputs": [],
   "source": [
    "from collections import Counter\n",
    "from nltk.corpus import stopwords\n",
    "from pymorphy2 import MorphAnalyzer\n",
    "from nltk.tokenize import word_tokenize\n",
    "from gensim.corpora import Dictionary\n",
    "from gensim.models import TfidfModel\n",
    "from gensim import similarities"
   ]
  },
  {
   "cell_type": "markdown",
   "metadata": {},
   "source": [
    "# Оригинальный датасет с банковскими комментариями недоступен на дропбоксе. Взял комментарии кинопоиска по [ссылке](https://drive.google.com/open?id=1gJEpwM3zdV5xe9nRU0VwQmGTiOTQdp10)"
   ]
  },
  {
   "cell_type": "code",
   "execution_count": 9,
   "metadata": {
    "scrolled": true
   },
   "outputs": [
    {
     "data": {
      "text/html": [
       "<div>\n",
       "<style scoped>\n",
       "    .dataframe tbody tr th:only-of-type {\n",
       "        vertical-align: middle;\n",
       "    }\n",
       "\n",
       "    .dataframe tbody tr th {\n",
       "        vertical-align: top;\n",
       "    }\n",
       "\n",
       "    .dataframe thead th {\n",
       "        text-align: right;\n",
       "    }\n",
       "</style>\n",
       "<table border=\"1\" class=\"dataframe\">\n",
       "  <thead>\n",
       "    <tr style=\"text-align: right;\">\n",
       "      <th></th>\n",
       "      <th>label</th>\n",
       "      <th>text</th>\n",
       "    </tr>\n",
       "  </thead>\n",
       "  <tbody>\n",
       "    <tr>\n",
       "      <th>0</th>\n",
       "      <td>1</td>\n",
       "      <td>Эпиграф Добро которое ты делаешь от сердца ты ...</td>\n",
       "    </tr>\n",
       "    <tr>\n",
       "      <th>1</th>\n",
       "      <td>1</td>\n",
       "      <td>Теперь это один из моих любимых фильмов в жанр...</td>\n",
       "    </tr>\n",
       "    <tr>\n",
       "      <th>2</th>\n",
       "      <td>1</td>\n",
       "      <td>Что скрыто в фильме Лучше не бывает Одна шикар...</td>\n",
       "    </tr>\n",
       "    <tr>\n",
       "      <th>3</th>\n",
       "      <td>1</td>\n",
       "      <td>Перед нами очень милое и доброе кино которое л...</td>\n",
       "    </tr>\n",
       "    <tr>\n",
       "      <th>4</th>\n",
       "      <td>1</td>\n",
       "      <td>Завязка Мелвин Удал популярный писатель Нет не...</td>\n",
       "    </tr>\n",
       "  </tbody>\n",
       "</table>\n",
       "</div>"
      ],
      "text/plain": [
       "   label                                               text\n",
       "0      1  Эпиграф Добро которое ты делаешь от сердца ты ...\n",
       "1      1  Теперь это один из моих любимых фильмов в жанр...\n",
       "2      1  Что скрыто в фильме Лучше не бывает Одна шикар...\n",
       "3      1  Перед нами очень милое и доброе кино которое л...\n",
       "4      1  Завязка Мелвин Удал популярный писатель Нет не..."
      ]
     },
     "execution_count": 9,
     "metadata": {},
     "output_type": "execute_result"
    }
   ],
   "source": [
    "df = pd.read_csv('reviews.csv')\n",
    "df.head()"
   ]
  },
  {
   "cell_type": "code",
   "execution_count": 4,
   "metadata": {},
   "outputs": [
    {
     "data": {
      "text/plain": [
       " 1    36480\n",
       " 0     5645\n",
       "-1     4376\n",
       "Name: label, dtype: int64"
      ]
     },
     "execution_count": 4,
     "metadata": {},
     "output_type": "execute_result"
    }
   ],
   "source": [
    "df.label.value_counts()"
   ]
  },
  {
   "cell_type": "code",
   "execution_count": 5,
   "metadata": {},
   "outputs": [
    {
     "name": "stdout",
     "output_type": "stream",
     "text": [
      "<class 'pandas.core.frame.DataFrame'>\n",
      "RangeIndex: 46501 entries, 0 to 46500\n",
      "Data columns (total 2 columns):\n",
      "label    46501 non-null int64\n",
      "text     46501 non-null object\n",
      "dtypes: int64(1), object(1)\n",
      "memory usage: 726.7+ KB\n"
     ]
    }
   ],
   "source": [
    "df.info()"
   ]
  },
  {
   "cell_type": "markdown",
   "metadata": {},
   "source": [
    "## 46к отзывов, 3 типа меток - положительные, нейтральные и отрицательные. Датасет несбалансирован по кол-ву классов."
   ]
  },
  {
   "cell_type": "code",
   "execution_count": 32,
   "metadata": {},
   "outputs": [],
   "source": [
    "#Small preprocessing - all to low case. \n",
    "df.text = df.text.apply(lambda x: x.lower())"
   ]
  },
  {
   "cell_type": "markdown",
   "metadata": {},
   "source": [
    "## Часть 1. Анализ текстов [40/100]\n",
    "\n",
    "1. Посчитайте количество отзывов в разных городах и на разные банки\n",
    "2. Постройте гистограмы длин слов в символах и в словах\n",
    "3. Найдите 10 самых частых:\n",
    "    * слов\n",
    "    * слов без стоп-слов\n",
    "    * лемм \n",
    "    * существительных\n",
    "4. Постройте кривые Ципфа и Хипса\n",
    "5. Ответьте на следующие вопросы:\n",
    "    * какое слово встречается чаще, \"сотрудник\" или \"клиент\"?\n",
    "    * сколько раз встречается слова \"мошенничество\" и \"доверие\"?\n",
    "6. В поле \"rating_grade\" записана оценка отзыва по шкале от 1 до 5. Используйте меру $tf-idf$, для того, чтобы найти ключевые слова и биграмы для положительных отзывов (с оценкой 5) и отрицательных отзывов (с оценкой 1)"
   ]
  },
  {
   "cell_type": "markdown",
   "metadata": {},
   "source": [
    "### 1. Посчитайте количество отзывов в разных городах и на разные банки \n",
    "### Не применимо, другой датасет"
   ]
  },
  {
   "cell_type": "markdown",
   "metadata": {},
   "source": [
    "### 2. Постройте гистограмы длин слов в символах и в словах - непонятно. Построил гистограммы длин отзывов в словах и символах"
   ]
  },
  {
   "cell_type": "code",
   "execution_count": 7,
   "metadata": {},
   "outputs": [],
   "source": [
    "char_count = [0] * len(df)\n",
    "word_count = [0] * len(df)\n",
    "for i, cur_t in enumerate(df.text):\n",
    "    char_count[i] = len(cur_t)\n",
    "    word_count[i] = len(cur_t.split()) #знаки препинания удалили до меня"
   ]
  },
  {
   "cell_type": "code",
   "execution_count": 8,
   "metadata": {},
   "outputs": [
    {
     "data": {
      "image/png": "[encoded data removed]",
      "text/plain": [
       "<Figure size 432x288 with 1 Axes>"
      ]
     },
     "metadata": {
      "needs_background": "light"
     },
     "output_type": "display_data"
    }
   ],
   "source": [
    "plt.hist(char_count, bins=50, label='Длина отзыва в символах')\n",
    "plt.show()"
   ]
  },
  {
   "cell_type": "code",
   "execution_count": 9,
   "metadata": {},
   "outputs": [
    {
     "data": {
      "image/png": "[encoded data removed]",
      "text/plain": [
       "<Figure size 432x288 with 1 Axes>"
      ]
     },
     "metadata": {
      "needs_background": "light"
     },
     "output_type": "display_data"
    }
   ],
   "source": [
    "plt.hist(word_count, bins=50, label='Длина отзыва в словах')\n",
    "plt.show()"
   ]
  },
  {
   "cell_type": "markdown",
   "metadata": {},
   "source": [
    "### Необычное поведение около 1000 слов - видимо ограничение длины сообщения"
   ]
  },
  {
   "cell_type": "markdown",
   "metadata": {},
   "source": [
    "### 3. Найдите 10 самых частых:\n",
    "    * слов\n",
    "    * слов без стоп-слов\n",
    "    * лемм \n",
    "    * существительных"
   ]
  },
  {
   "cell_type": "code",
   "execution_count": 10,
   "metadata": {},
   "outputs": [
    {
     "data": {
      "text/plain": [
       "[('и', 645076),\n",
       " ('в', 449243),\n",
       " ('не', 351648),\n",
       " ('что', 215199),\n",
       " ('на', 213878),\n",
       " ('с', 163190),\n",
       " ('-', 125328),\n",
       " ('как', 118821),\n",
       " ('это', 116598),\n",
       " ('из', 103986)]"
      ]
     },
     "execution_count": 10,
     "metadata": {},
     "output_type": "execute_result"
    }
   ],
   "source": [
    "#Words\n",
    "\n",
    "corpus = [word for comment in df.text for word in comment.split()] #текст предобработан, поэтому сработает\n",
    "freq_dict = Counter(corpus)\n",
    "freq_dict.most_common(10)"
   ]
  },
  {
   "cell_type": "code",
   "execution_count": 4,
   "metadata": {},
   "outputs": [],
   "source": [
    "#Without stop words\n",
    "\n",
    "my_stop = stopwords.words('russian') + [\n",
    "    'это', 'наш' , 'тыс', 'млн', 'млрд', 'также',  'т', 'д',\n",
    "    'который','прошлый','сей', 'свой', 'наш', 'мочь', 'такой', 'фильм', 'вс', 'весь'\n",
    "]\n",
    "#ФИльм, вс и весь удаляются для дальнейшего анализа"
   ]
  },
  {
   "cell_type": "code",
   "execution_count": 33,
   "metadata": {},
   "outputs": [
    {
     "data": {
      "text/plain": [
       "[('-', 125328),\n",
       " ('очень', 54420),\n",
       " ('фильма', 50681),\n",
       " ('просто', 40110),\n",
       " ('фильме', 31363),\n",
       " ('всё', 29989),\n",
       " ('кино', 27563),\n",
       " ('которые', 26315),\n",
       " ('жизни', 25492),\n",
       " ('время', 24231)]"
      ]
     },
     "execution_count": 33,
     "metadata": {},
     "output_type": "execute_result"
    }
   ],
   "source": [
    "#Without stop words\n",
    "corpus = [word for comment in df.text for word in comment.split() if word not in my_stop] #текст предобработан, поэтому сработает\n",
    "freq_dict = Counter(corpus)\n",
    "freq_dict.most_common(10)"
   ]
  },
  {
   "cell_type": "code",
   "execution_count": 5,
   "metadata": {},
   "outputs": [],
   "source": [
    "#Lemmas counting. I have laptop with WIndows, so mystem is too slooooow. Will use pymorph and save result to file\n",
    "\n",
    "pymorphy2_analyzer = MorphAnalyzer()\n",
    "\n",
    "\n",
    "# mystopwords = stopwords.words('russian') + [\n",
    "#     'это', 'наш' , 'тыс', 'млн', 'млрд', 'также',  'т', 'д',\n",
    "#     'который','прошлый','сей', 'свой', 'наш', 'мочь', 'такой'\n",
    "# ]\n",
    "\n",
    "ru_words = re.compile(\"[А-Яа-я]+\")\n",
    "\n",
    "\n",
    "def words_only(text):\n",
    "    return \" \".join(ru_words.findall(text))\n",
    "\n",
    "\n",
    "def lemmatize(text):\n",
    "    out_tok = []\n",
    "    try:\n",
    "        tok_list = word_tokenize(text)\n",
    "        for w in tok_list:\n",
    "            out_tok.append(pymorphy2_analyzer.parse(w)[0].normal_form)\n",
    "        return \" \".join(out_tok)  \n",
    "    except:\n",
    "        return \" \"\n",
    "\n",
    "\n",
    "def remove_stopwords(text, mystopwords = my_stop):\n",
    "    try:\n",
    "        return \" \".join([token for token in text.split() if not token in mystopwords])\n",
    "    except:\n",
    "        return \"\"\n",
    "\n",
    "    \n",
    "def preprocess(text):\n",
    "    return remove_stopwords(lemmatize(words_only(text)))"
   ]
  },
  {
   "cell_type": "code",
   "execution_count": null,
   "metadata": {},
   "outputs": [],
   "source": [
    "tqdm.tqdm_pandas(tqdm.tqdm, leave=True)\n",
    "df['lemm_text'] = df.text.progress_apply(preprocess)"
   ]
  },
  {
   "cell_type": "code",
   "execution_count": null,
   "metadata": {},
   "outputs": [],
   "source": [
    "df.head()"
   ]
  },
  {
   "cell_type": "code",
   "execution_count": null,
   "metadata": {},
   "outputs": [],
   "source": [
    "# df.to_csv('reviews_lemmed.csv')"
   ]
  },
  {
   "cell_type": "code",
   "execution_count": 46,
   "metadata": {},
   "outputs": [],
   "source": [
    "#Loading preprocessed file\n",
    "df = pd.read_csv('reviews_lemmed.csv', index_col=0, usecols=[0, 1, 3])"
   ]
  },
  {
   "cell_type": "code",
   "execution_count": 48,
   "metadata": {},
   "outputs": [],
   "source": [
    "#Дальнейший анализ показал, что слова \"фильм\", \"весь\" и \"вс\" (от \"всё\") нужно тоже внести в стоп-слова\n",
    "# Just run function again - don't want to lemmatize full text again\n",
    "\n",
    "df.lemm_text = df.lemm_text.apply(remove_stopwords)"
   ]
  },
  {
   "cell_type": "code",
   "execution_count": 49,
   "metadata": {},
   "outputs": [
    {
     "data": {
      "text/html": [
       "<div>\n",
       "<style scoped>\n",
       "    .dataframe tbody tr th:only-of-type {\n",
       "        vertical-align: middle;\n",
       "    }\n",
       "\n",
       "    .dataframe tbody tr th {\n",
       "        vertical-align: top;\n",
       "    }\n",
       "\n",
       "    .dataframe thead th {\n",
       "        text-align: right;\n",
       "    }\n",
       "</style>\n",
       "<table border=\"1\" class=\"dataframe\">\n",
       "  <thead>\n",
       "    <tr style=\"text-align: right;\">\n",
       "      <th></th>\n",
       "      <th>label</th>\n",
       "      <th>lemm_text</th>\n",
       "    </tr>\n",
       "  </thead>\n",
       "  <tbody>\n",
       "    <tr>\n",
       "      <th>0</th>\n",
       "      <td>1</td>\n",
       "      <td>эпиграф добро делать сердце делать литр толсто...</td>\n",
       "    </tr>\n",
       "    <tr>\n",
       "      <th>1</th>\n",
       "      <td>1</td>\n",
       "      <td>любимый жанр жанр преимущество отдавать именно...</td>\n",
       "    </tr>\n",
       "    <tr>\n",
       "      <th>2</th>\n",
       "      <td>1</td>\n",
       "      <td>скрытый хороший бывать шикарный мысль строчка ...</td>\n",
       "    </tr>\n",
       "    <tr>\n",
       "      <th>3</th>\n",
       "      <td>1</td>\n",
       "      <td>очень милый добрый кино лично смотреть участие...</td>\n",
       "    </tr>\n",
       "    <tr>\n",
       "      <th>4</th>\n",
       "      <td>1</td>\n",
       "      <td>завязка мелвин удалый популярный писатель мелв...</td>\n",
       "    </tr>\n",
       "  </tbody>\n",
       "</table>\n",
       "</div>"
      ],
      "text/plain": [
       "   label                                          lemm_text\n",
       "0      1  эпиграф добро делать сердце делать литр толсто...\n",
       "1      1  любимый жанр жанр преимущество отдавать именно...\n",
       "2      1  скрытый хороший бывать шикарный мысль строчка ...\n",
       "3      1  очень милый добрый кино лично смотреть участие...\n",
       "4      1  завязка мелвин удалый популярный писатель мелв..."
      ]
     },
     "execution_count": 49,
     "metadata": {},
     "output_type": "execute_result"
    }
   ],
   "source": [
    "df.head()"
   ]
  },
  {
   "cell_type": "code",
   "execution_count": 50,
   "metadata": {},
   "outputs": [
    {
     "data": {
      "text/plain": [
       "[('человек', 74156),\n",
       " ('самый', 59516),\n",
       " ('герой', 57077),\n",
       " ('очень', 54916),\n",
       " ('хороший', 49542),\n",
       " ('жизнь', 48471),\n",
       " ('время', 41528),\n",
       " ('просто', 40400),\n",
       " ('история', 39769),\n",
       " ('картина', 39266)]"
      ]
     },
     "execution_count": 50,
     "metadata": {},
     "output_type": "execute_result"
    }
   ],
   "source": [
    "corpus = [word for comment in df.lemm_text for word in comment.split()] #текст предобработан, поэтому сработает\n",
    "freq_dict = Counter(corpus)\n",
    "freq_dict.most_common(10)"
   ]
  },
  {
   "cell_type": "code",
   "execution_count": 51,
   "metadata": {},
   "outputs": [
    {
     "data": {
      "text/plain": [
       "[('человек', 74156),\n",
       " ('герой', 57077),\n",
       " ('жизнь', 48471),\n",
       " ('время', 41528),\n",
       " ('история', 39769),\n",
       " ('картина', 39266),\n",
       " ('год', 35090),\n",
       " ('персонаж', 31502),\n",
       " ('сюжет', 30997),\n",
       " ('роль', 30948)]"
      ]
     },
     "execution_count": 51,
     "metadata": {},
     "output_type": "execute_result"
    }
   ],
   "source": [
    "#Noun counting\n",
    "counter = 0\n",
    "top_words = freq_dict.most_common(100)\n",
    "top_nouns = []\n",
    "\n",
    "for cur_word in top_words:\n",
    "    if pymorphy2_analyzer.parse(cur_word[0])[0].tag.POS == 'NOUN':\n",
    "        top_nouns.append(cur_word)\n",
    "        counter += 1\n",
    "        if counter >= 10:\n",
    "            break\n",
    "            \n",
    "top_nouns"
   ]
  },
  {
   "cell_type": "markdown",
   "metadata": {},
   "source": [
    "### 4. Постройте кривые Ципфа и Хипса"
   ]
  },
  {
   "cell_type": "code",
   "execution_count": 52,
   "metadata": {},
   "outputs": [
    {
     "data": {
      "text/plain": [
       "10133074"
      ]
     },
     "execution_count": 52,
     "metadata": {},
     "output_type": "execute_result"
    }
   ],
   "source": [
    "word_count = [0] * len(df)\n",
    "for i, cur_t in enumerate(df.lemm_text):\n",
    "    word_count[i] = len(cur_t.split()) #знаки препинания удалили до меня\n",
    "    \n",
    "total_words = np.sum(word_count)\n",
    "total_words"
   ]
  },
  {
   "cell_type": "code",
   "execution_count": 53,
   "metadata": {},
   "outputs": [
    {
     "data": {
      "image/png": "[encoded data removed]",
      "text/plain": [
       "<Figure size 432x288 with 1 Axes>"
      ]
     },
     "metadata": {
      "needs_background": "light"
     },
     "output_type": "display_data"
    }
   ],
   "source": [
    "\n",
    "freqs = list(freq_dict.values())\n",
    "freqs = sorted(freqs, reverse = True)\n",
    "\n",
    "EMP_FREQ = 0.007 #empirical frequency for slavic language\n",
    "\n",
    "fig, ax = plt.subplots()\n",
    "ax.plot(freqs[:300]/total_words, label='True values')#, range(300))\n",
    "ax.legend()\n",
    "ax.set_title('Кривая Ципфа')\n",
    "plt.show()"
   ]
  },
  {
   "cell_type": "code",
   "execution_count": 54,
   "metadata": {},
   "outputs": [
    {
     "name": "stderr",
     "output_type": "stream",
     "text": [
      "100%|███████████████████████████████████| 46501/46501 [03:28<00:00, 223.43it/s]\n"
     ]
    }
   ],
   "source": [
    "cnt = Counter()\n",
    "n_tokens = [0]\n",
    "n_words = [0]\n",
    "\n",
    "for idx, cur_text in tqdm.tqdm(df.iterrows(), total=len(df)):\n",
    "    cur_words = word_tokenize(cur_text.lemm_text)\n",
    "    cnt.update(cur_words)\n",
    "    n_words.append(n_words[-1]+len(cur_words))\n",
    "    n_tokens.append(len(cnt.values()))\n",
    "    \n"
   ]
  },
  {
   "cell_type": "code",
   "execution_count": 55,
   "metadata": {},
   "outputs": [
    {
     "data": {
      "image/png": "[encoded data removed]",
      "text/plain": [
       "<Figure size 432x288 with 1 Axes>"
      ]
     },
     "metadata": {
      "needs_background": "light"
     },
     "output_type": "display_data"
    }
   ],
   "source": [
    "fig, ax = plt.subplots()\n",
    "ax.plot(n_words, n_tokens)\n",
    "ax.set_title('Кривая Хипса')\n",
    "plt.show()"
   ]
  },
  {
   "cell_type": "code",
   "execution_count": 15,
   "metadata": {},
   "outputs": [
    {
     "data": {
      "text/plain": [
       "[('басовито', 1),\n",
       " ('трабла', 1),\n",
       " ('нюнислюни', 1),\n",
       " ('маникальный', 1),\n",
       " ('аллергик', 1),\n",
       " ('мелвиновский', 1),\n",
       " ('юдеть', 1),\n",
       " ('пси', 1),\n",
       " ('кинера', 1),\n",
       " ('мдвина', 1),\n",
       " ('джекобсон', 1),\n",
       " ('эдельштейн', 1),\n",
       " ('бенц', 1),\n",
       " ('прокусок', 1),\n",
       " ('левш', 1),\n",
       " ('участнок', 1),\n",
       " ('воспронимать', 1),\n",
       " ('загриммированный', 1),\n",
       " ('невпервые', 1),\n",
       " ('осноном', 1)]"
      ]
     },
     "execution_count": 15,
     "metadata": {},
     "output_type": "execute_result"
    }
   ],
   "source": [
    "#Выведем наиболее редкие слова - это, в основном, \"новообразованные\" слова и опечатки\n",
    "sorted(freq_dict.most_common(), key=lambda x: x[1])[:20]"
   ]
  },
  {
   "cell_type": "markdown",
   "metadata": {},
   "source": [
    "### 5. Ответьте на следующие вопросы:\n",
    "    * какое слово встречается чаще, \"сотрудник\" или \"клиент\"?\n",
    "    * сколько раз встречается слова \"мошенничество\" и \"доверие\"?"
   ]
  },
  {
   "cell_type": "code",
   "execution_count": 59,
   "metadata": {},
   "outputs": [
    {
     "name": "stdout",
     "output_type": "stream",
     "text": [
      "Слово \"сотрудник\" встретилось 435 раз, слово \"клиент\" - 363 раз\n"
     ]
    }
   ],
   "source": [
    "print('Слово \"сотрудник\" встретилось %d раз, слово \"клиент\" - %d раз'\n",
    "      % (freq_dict.get('сотрудник'), freq_dict.get('клиент')))"
   ]
  },
  {
   "cell_type": "code",
   "execution_count": 60,
   "metadata": {},
   "outputs": [
    {
     "name": "stdout",
     "output_type": "stream",
     "text": [
      "Слово \"мошенничество\" встретилось 99 раз, слово \"доверие\" - 612 раз\n"
     ]
    }
   ],
   "source": [
    "print('Слово \"мошенничество\" встретилось %d раз, слово \"доверие\" - %d раз'\n",
    "      % (freq_dict.get('мошенничество'), freq_dict.get('доверие')))"
   ]
  },
  {
   "cell_type": "markdown",
   "metadata": {},
   "source": [
    "### 6. В поле \"rating_grade\" записана оценка отзыва по шкале от 1 до 5. Используйте меру $tf-idf$, для того, чтобы найти ключевые слова и биграмы для положительных отзывов (с оценкой 5) и отрицательных отзывов (с оценкой 1)"
   ]
  },
  {
   "cell_type": "markdown",
   "metadata": {},
   "source": [
    "### Другой датасет, поэтому оценка 1 и -1"
   ]
  },
  {
   "cell_type": "code",
   "execution_count": 108,
   "metadata": {},
   "outputs": [
    {
     "name": "stderr",
     "output_type": "stream",
     "text": [
      "C:\\ProgramData\\Anaconda3\\lib\\site-packages\\sklearn\\linear_model\\logistic.py:432: FutureWarning: Default solver will be changed to 'lbfgs' in 0.22. Specify a solver to silence this warning.\n",
      "  FutureWarning)\n"
     ]
    },
    {
     "data": {
      "text/plain": [
       "LogisticRegression(C=1.0, class_weight=None, dual=False, fit_intercept=True,\n",
       "                   intercept_scaling=1, l1_ratio=None, max_iter=100,\n",
       "                   multi_class='warn', n_jobs=None, penalty='l2',\n",
       "                   random_state=None, solver='warn', tol=0.0001, verbose=0,\n",
       "                   warm_start=False)"
      ]
     },
     "execution_count": 108,
     "metadata": {},
     "output_type": "execute_result"
    }
   ],
   "source": [
    "vec = TfidfVectorizer()\n",
    "bow = vec.fit_transform(x_train)\n",
    "log_reg = LogisticRegression()\n",
    "log_reg.fit(bow, y_train)"
   ]
  },
  {
   "cell_type": "code",
   "execution_count": 127,
   "metadata": {},
   "outputs": [
    {
     "name": "stdout",
     "output_type": "stream",
     "text": [
      "ничто\n",
      "вообще\n",
      "почему\n",
      "скучный\n",
      "никакой\n",
      "плохой\n",
      "идея\n",
      "видимо\n",
      "плохо\n",
      "вместо\n"
     ]
    }
   ],
   "source": [
    "max_args = np.argsort(log_reg.coef_[0])[:10]\n",
    "for idx in max_args:\n",
    "    print(vec.get_feature_names()[idx])"
   ]
  },
  {
   "cell_type": "code",
   "execution_count": 128,
   "metadata": {},
   "outputs": [
    {
     "name": "stdout",
     "output_type": "stream",
     "text": [
      "отлично\n",
      "потрясать\n",
      "самый\n",
      "отличный\n",
      "прекрасный\n",
      "очень\n",
      "замечательный\n",
      "роль\n",
      "жизнь\n",
      "каждый\n"
     ]
    }
   ],
   "source": [
    "max_args = np.argsort(log_reg.coef_[0])[-10:]\n",
    "for idx in max_args:\n",
    "    print(vec.get_feature_names()[idx])"
   ]
  },
  {
   "cell_type": "code",
   "execution_count": null,
   "metadata": {},
   "outputs": [],
   "source": [
    "from sklearn.feature_extraction.text import TfidfVectorizer"
   ]
  },
  {
   "cell_type": "code",
   "execution_count": null,
   "metadata": {},
   "outputs": [],
   "source": [
    "vec = TfidfVectorizer(ngram_range=(1,2))\n",
    "vec.fit(df[df.label==1].lemm_text)"
   ]
  },
  {
   "cell_type": "code",
   "execution_count": null,
   "metadata": {},
   "outputs": [],
   "source": [
    "x = vec.transform([df.iloc[100].lemm_text])"
   ]
  },
  {
   "cell_type": "code",
   "execution_count": null,
   "metadata": {},
   "outputs": [],
   "source": []
  },
  {
   "cell_type": "markdown",
   "metadata": {},
   "source": [
    "## Часть 2. Тематическое моделирование [20/100]\n",
    "\n",
    "1. Постройте несколько тематических моделей коллекции документов с разным числом тем. Приведите примеры понятных (интерпретируемых) тем.\n",
    "2. Найдите темы, в которых упомянуты конкретные банки (Сбербанк, ВТБ, другой банк). Можете ли вы их прокомментировать / объяснить?\n",
    "\n",
    "Эта часть задания может быть сделана с использованием gensim. "
   ]
  },
  {
   "cell_type": "code",
   "execution_count": 61,
   "metadata": {},
   "outputs": [],
   "source": []
  },
  {
   "cell_type": "code",
   "execution_count": 16,
   "metadata": {},
   "outputs": [],
   "source": [
    "texts = [text.split() for text in df.lemm_text]\n",
    "dictionary = Dictionary(texts)\n",
    "corpus = [dictionary.doc2bow(text) for text in texts]"
   ]
  },
  {
   "cell_type": "code",
   "execution_count": 17,
   "metadata": {},
   "outputs": [],
   "source": [
    "tfidf = TfidfModel(corpus)\n",
    "corpus_tfidf = tfidf[corpus]"
   ]
  },
  {
   "cell_type": "code",
   "execution_count": 18,
   "metadata": {},
   "outputs": [],
   "source": [
    "from gensim.models import lsimodel\n"
   ]
  },
  {
   "cell_type": "code",
   "execution_count": 19,
   "metadata": {},
   "outputs": [
    {
     "name": "stdout",
     "output_type": "stream",
     "text": [
      "Wall time: 0 ns\n"
     ]
    }
   ],
   "source": [
    "%%time\n",
    "lsi = lsimodel.LsiModel(corpus=corpus_tfidf, id2word=dictionary, num_topics=30)"
   ]
  },
  {
   "cell_type": "code",
   "execution_count": 22,
   "metadata": {},
   "outputs": [
    {
     "data": {
      "text/plain": [
       "[(0,\n",
       "  '0.081*\"очень\" + 0.080*\"жизнь\" + 0.080*\"человек\" + 0.078*\"картина\" + 0.076*\"мультфильм\" + 0.075*\"друг\" + 0.075*\"история\" + 0.073*\"часть\" + 0.071*\"герой\" + 0.070*\"персонаж\"'),\n",
       " (1,\n",
       "  '-0.796*\"мультфильм\" + -0.173*\"мультик\" + -0.140*\"ребёнок\" + -0.101*\"взрослый\" + -0.096*\"анимация\" + -0.095*\"дисней\" + -0.084*\"игрушка\" + -0.078*\"сказка\" + -0.077*\"миядзак\" + -0.076*\"студия\"'),\n",
       " (2,\n",
       "  '0.210*\"часть\" + 0.176*\"мультфильм\" + -0.167*\"жизнь\" + -0.161*\"любовь\" + -0.132*\"ребёнок\" + -0.106*\"жить\" + -0.100*\"человек\" + 0.096*\"боевик\" + 0.092*\"персонаж\" + -0.092*\"женщина\"'),\n",
       " (3,\n",
       "  '0.386*\"война\" + -0.134*\"актёр\" + -0.132*\"комедия\" + 0.111*\"солдат\" + 0.108*\"часть\" + -0.104*\"роль\" + 0.094*\"военный\" + -0.094*\"очень\" + -0.092*\"сыграть\" + -0.092*\"игра\"'),\n",
       " (4,\n",
       "  '0.283*\"книга\" + 0.241*\"часть\" + 0.222*\"гарри\" + -0.198*\"мультфильм\" + 0.157*\"поттер\" + -0.135*\"война\" + 0.120*\"ребёнок\" + 0.100*\"сказка\" + 0.094*\"кольцо\" + -0.082*\"тарантино\"'),\n",
       " (5,\n",
       "  '-0.481*\"война\" + -0.174*\"книга\" + 0.151*\"робот\" + -0.146*\"советский\" + -0.123*\"солдат\" + -0.119*\"военный\" + -0.107*\"гарри\" + -0.094*\"холмс\" + -0.084*\"акт\" + -0.078*\"поттер\"'),\n",
       " (6,\n",
       "  '0.261*\"книга\" + 0.236*\"холмс\" + 0.160*\"шерлок\" + -0.153*\"война\" + 0.139*\"экранизация\" + 0.126*\"ватсон\" + -0.123*\"актёр\" + -0.117*\"комедия\" + 0.116*\"режисса\" + -0.112*\"часть\"'),\n",
       " (7,\n",
       "  '0.306*\"акт\" + 0.217*\"ещ\" + -0.210*\"холмс\" + 0.193*\"метр\" + 0.180*\"режисса\" + 0.151*\"е\" + -0.149*\"актёр\" + -0.140*\"режиссёр\" + -0.139*\"шерлок\" + 0.138*\"р\"'),\n",
       " (8,\n",
       "  '-0.262*\"холмс\" + 0.183*\"книга\" + -0.176*\"шерлок\" + 0.140*\"война\" + -0.140*\"ватсон\" + -0.136*\"акт\" + -0.131*\"комедия\" + -0.124*\"часть\" + -0.118*\"ещ\" + -0.114*\"ричать\"'),\n",
       " (9,\n",
       "  '0.397*\"холмс\" + 0.267*\"шерлок\" + 0.212*\"ватсон\" + -0.160*\"гарри\" + 0.157*\"ричать\" + 0.117*\"гай\" + -0.112*\"де\" + -0.110*\"поттер\" + 0.096*\"тор\" + -0.095*\"акт\"'),\n",
       " (10,\n",
       "  '0.220*\"ребёнок\" + 0.218*\"отец\" + 0.170*\"де\" + 0.149*\"ниро\" + 0.147*\"семья\" + 0.138*\"книга\" + 0.135*\"сын\" + -0.127*\"любовь\" + 0.124*\"акт\" + 0.123*\"пачиный\"'),\n",
       " (11,\n",
       "  '-0.319*\"робот\" + 0.275*\"тор\" + 0.214*\"мститель\" + 0.197*\"комикс\" + 0.166*\"бэтмена\" + -0.137*\"терминатор\" + -0.125*\"холмс\" + 0.120*\"марвести\" + 0.117*\"супергерой\" + 0.113*\"лока\"'),\n",
       " (12,\n",
       "  '0.233*\"комедия\" + -0.157*\"робот\" + -0.133*\"бэтмена\" + -0.132*\"акт\" + 0.129*\"мальчишник\" + -0.118*\"холмс\" + 0.118*\"советский\" + -0.112*\"нолана\" + -0.112*\"комикс\" + 0.111*\"книга\"'),\n",
       " (13,\n",
       "  '0.247*\"ребёнок\" + -0.203*\"вампир\" + -0.194*\"белла\" + -0.184*\"любовь\" + -0.167*\"эдвард\" + 0.155*\"комедия\" + 0.127*\"советский\" + 0.121*\"чаплин\" + -0.116*\"мультфильм\" + -0.111*\"часть\"'),\n",
       " (14,\n",
       "  '0.247*\"джек\" + 0.244*\"пират\" + 0.232*\"джонс\" + -0.210*\"гарри\" + 0.196*\"индиана\" + 0.174*\"ребёнок\" + 0.158*\"воробей\" + 0.141*\"джонни\" + -0.129*\"поттер\" + 0.124*\"отец\"'),\n",
       " (15,\n",
       "  '-0.238*\"робот\" + 0.188*\"часть\" + -0.150*\"терминатор\" + -0.131*\"эдвард\" + -0.125*\"вампир\" + 0.124*\"пират\" + -0.115*\"белла\" + -0.114*\"сказка\" + -0.107*\"кэмерон\" + 0.106*\"джек\"'),\n",
       " (16,\n",
       "  '0.199*\"сказка\" + 0.137*\"тарантино\" + -0.132*\"часть\" + -0.128*\"вудить\" + -0.127*\"росомаха\" + -0.119*\"игрушка\" + 0.118*\"кольцо\" + 0.115*\"миядзак\" + 0.112*\"боевик\" + -0.111*\"аллен\"'),\n",
       " (17,\n",
       "  '-0.279*\"гарри\" + 0.274*\"кольцо\" + 0.243*\"чаплин\" + 0.199*\"белла\" + 0.194*\"хоббит\" + 0.183*\"властелин\" + 0.182*\"вампир\" + -0.175*\"поттер\" + 0.155*\"джексон\" + 0.140*\"трилогия\"'),\n",
       " (18,\n",
       "  '-0.238*\"кольцо\" + 0.193*\"чаплин\" + 0.182*\"белла\" + -0.171*\"хоббит\" + -0.161*\"властелин\" + 0.156*\"вампир\" + 0.151*\"аниме\" + 0.144*\"миядзак\" + 0.143*\"тарантино\" + -0.131*\"джексон\"'),\n",
       " (19,\n",
       "  '0.258*\"чаплин\" + -0.237*\"иствуд\" + -0.200*\"росомаха\" + 0.185*\"робот\" + -0.181*\"клинт\" + 0.173*\"де\" + 0.152*\"книга\" + -0.135*\"икс\" + 0.130*\"ниро\" + -0.123*\"мутант\"'),\n",
       " (20,\n",
       "  '0.246*\"индиана\" + -0.239*\"росомаха\" + 0.202*\"тор\" + 0.175*\"джонс\" + -0.162*\"пират\" + -0.161*\"икс\" + -0.152*\"джонни\" + -0.146*\"мутант\" + -0.140*\"джек\" + -0.126*\"чаплин\"'),\n",
       " (21,\n",
       "  '-0.331*\"росомаха\" + -0.317*\"индиана\" + -0.272*\"джонс\" + -0.263*\"чаплин\" + -0.209*\"икс\" + -0.192*\"мутант\" + -0.121*\"логана\" + -0.120*\"логать\" + -0.112*\"книга\" + -0.105*\"спилберг\"'),\n",
       " (22,\n",
       "  '-0.244*\"тор\" + 0.159*\"тренер\" + 0.142*\"росомаха\" + 0.122*\"тарантино\" + 0.119*\"джим\" + 0.119*\"картер\" + -0.116*\"часть\" + 0.113*\"мечта\" + -0.111*\"иствуд\" + -0.110*\"терминатор\"'),\n",
       " (23,\n",
       "  '0.327*\"бэтмена\" + -0.306*\"тор\" + -0.238*\"чаплин\" + 0.216*\"нолана\" + -0.206*\"иствуд\" + -0.160*\"клинт\" + -0.126*\"лока\" + 0.125*\"джокер\" + -0.118*\"мститель\" + -0.113*\"дракон\"'),\n",
       " (24,\n",
       "  '0.313*\"чаплин\" + 0.307*\"бэтмена\" + 0.219*\"дракон\" + -0.216*\"росомаха\" + 0.196*\"нолана\" + -0.152*\"икс\" + 0.147*\"брюс\" + -0.140*\"мутант\" + 0.119*\"джокер\" + -0.115*\"де\"'),\n",
       " (25,\n",
       "  '0.291*\"дракон\" + -0.254*\"иствуд\" + -0.193*\"клинт\" + 0.173*\"индиана\" + 0.142*\"тор\" + -0.135*\"бэтмена\" + -0.132*\"игрушка\" + 0.130*\"аниме\" + -0.122*\"вестерн\" + -0.120*\"кевин\"'),\n",
       " (26,\n",
       "  '0.362*\"чаплин\" + 0.165*\"аллен\" + -0.164*\"робот\" + -0.164*\"индиана\" + -0.158*\"тор\" + -0.152*\"советский\" + 0.140*\"чарли\" + 0.139*\"вудить\" + -0.138*\"тарантино\" + -0.121*\"белла\"'),\n",
       " (27,\n",
       "  '-0.366*\"тарантино\" + -0.326*\"аллен\" + -0.277*\"вудить\" + -0.185*\"квентин\" + 0.134*\"комедия\" + -0.133*\"робот\" + -0.115*\"чтиво\" + -0.106*\"энни\" + 0.104*\"эдвард\" + -0.103*\"игрушка\"'),\n",
       " (28,\n",
       "  '0.201*\"иствуд\" + -0.196*\"аллен\" + -0.188*\"дракон\" + -0.182*\"вудить\" + 0.154*\"клинт\" + 0.139*\"джим\" + -0.133*\"собака\" + -0.127*\"игрушка\" + -0.124*\"сериал\" + 0.123*\"вестерн\"'),\n",
       " (29,\n",
       "  '0.361*\"аллен\" + 0.271*\"вудить\" + -0.266*\"тарантино\" + 0.134*\"джонни\" + -0.134*\"квентин\" + 0.121*\"индиана\" + 0.116*\"иствуд\" + 0.116*\"джуна\" + 0.115*\"джим\" + -0.115*\"джек\"')]"
      ]
     },
     "execution_count": 22,
     "metadata": {},
     "output_type": "execute_result"
    }
   ],
   "source": [
    "lsi.show_topics()"
   ]
  },
  {
   "cell_type": "markdown",
   "metadata": {},
   "source": [
    "### При 30 темах интерпретировать достаточно легко)) 30я вообще описывает актеров"
   ]
  },
  {
   "cell_type": "code",
   "execution_count": 24,
   "metadata": {},
   "outputs": [],
   "source": [
    "#let's try 100\n",
    "\n",
    "lsi = lsimodel.LsiModel(corpus=corpus_tfidf, id2word=dictionary, num_topics=10)"
   ]
  },
  {
   "cell_type": "code",
   "execution_count": 25,
   "metadata": {},
   "outputs": [
    {
     "data": {
      "text/plain": [
       "[(0,\n",
       "  '0.081*\"очень\" + 0.080*\"жизнь\" + 0.080*\"человек\" + 0.078*\"картина\" + 0.076*\"мультфильм\" + 0.075*\"друг\" + 0.075*\"история\" + 0.073*\"часть\" + 0.071*\"герой\" + 0.070*\"персонаж\"'),\n",
       " (1,\n",
       "  '-0.797*\"мультфильм\" + -0.173*\"мультик\" + -0.139*\"ребёнок\" + -0.100*\"взрослый\" + -0.096*\"дисней\" + -0.096*\"анимация\" + -0.087*\"игрушка\" + -0.079*\"сказка\" + -0.076*\"студия\" + -0.075*\"добрый\"'),\n",
       " (2,\n",
       "  '0.205*\"часть\" + 0.189*\"мультфильм\" + -0.169*\"жизнь\" + -0.157*\"любовь\" + -0.141*\"ребёнок\" + -0.106*\"жить\" + -0.099*\"человек\" + 0.093*\"боевик\" + 0.093*\"персонаж\" + 0.089*\"франшиза\"'),\n",
       " (3,\n",
       "  '0.422*\"война\" + -0.152*\"комедия\" + -0.126*\"актёр\" + 0.123*\"солдат\" + 0.106*\"военный\" + -0.100*\"роль\" + -0.087*\"сыграть\" + -0.086*\"очень\" + -0.084*\"игра\" + 0.082*\"часть\"'),\n",
       " (4,\n",
       "  '0.243*\"часть\" + 0.224*\"гарри\" + 0.217*\"книга\" + 0.184*\"белла\" + 0.161*\"поттер\" + -0.157*\"мультфильм\" + 0.154*\"вампир\" + -0.135*\"война\" + 0.124*\"кольцо\" + 0.119*\"ребёнок\"'),\n",
       " (5,\n",
       "  '-0.324*\"война\" + -0.179*\"советский\" + -0.134*\"книга\" + 0.121*\"ребёнок\" + -0.117*\"любовь\" + -0.109*\"акт\" + -0.106*\"белла\" + 0.103*\"робот\" + -0.094*\"кольцо\" + -0.093*\"вампир\"'),\n",
       " (6,\n",
       "  '-0.283*\"джонс\" + -0.280*\"индиана\" + 0.193*\"книга\" + -0.166*\"пират\" + -0.156*\"чаплин\" + -0.152*\"комедия\" + -0.150*\"джек\" + -0.138*\"часть\" + -0.131*\"отец\" + -0.126*\"приключение\"'),\n",
       " (7,\n",
       "  '0.257*\"тор\" + 0.230*\"росомаха\" + -0.228*\"индиана\" + -0.196*\"джонс\" + 0.189*\"мститель\" + 0.176*\"комикс\" + 0.164*\"икс\" + 0.143*\"мутант\" + -0.139*\"книга\" + 0.128*\"паук\"'),\n",
       " (8,\n",
       "  '-0.398*\"холмс\" + -0.387*\"чаплин\" + -0.263*\"шерлок\" + -0.227*\"ватсон\" + 0.138*\"белла\" + -0.138*\"чарли\" + -0.129*\"гарри\" + -0.125*\"дауни\" + 0.113*\"вампир\" + 0.111*\"джек\"'),\n",
       " (9,\n",
       "  '-0.340*\"кольцо\" + -0.243*\"хоббит\" + -0.228*\"властелин\" + -0.187*\"джексон\" + 0.183*\"пират\" + 0.182*\"джек\" + -0.161*\"трилогия\" + 0.136*\"холмс\" + -0.125*\"средиземье\" + -0.125*\"гном\"')]"
      ]
     },
     "execution_count": 25,
     "metadata": {},
     "output_type": "execute_result"
    }
   ],
   "source": [
    "lsi.show_topics(10)"
   ]
  },
  {
   "cell_type": "markdown",
   "metadata": {},
   "source": [
    "### Может быть даже проще интерпретировать - каждая тема относится к 2-3 фильмам."
   ]
  },
  {
   "cell_type": "markdown",
   "metadata": {},
   "source": [
    "## Часть 3. Классификация текстов [40/100]\n",
    "\n",
    "Сформулируем для простоты задачу бинарной классификации: будем классифицировать на два класса, то есть, различать резко отрицательные отзывы (с оценкой 1) и положительные отзывы (с оценкой 5). \n",
    "\n",
    "1.  Составьте обучающее и тестовое множество: выберите из всего набора данных N1 отзывов с оценкой 1 и N2 отзывов с оценкой 5 (значение N1 и N2 – на ваше усмотрение). Используйте ```sklearn.model_selection.train_test_split``` для разделения множества отобранных документов на обучающее и тестовое. \n",
    "2. Используйте любой известный вам алгоритм классификации текстов для решения задачи и получите baseline. Сравните разные варианты векторизации текста: использование только униграм, пар или троек слов или с использованием символьных $n$-грам. \n",
    "3. Сравните, как изменяется качество решения задачи при использовании скрытых тем в качестве признаков:\n",
    "* 1-ый вариант: $tf-idf$ преобразование (```sklearn.feature_extraction.text.TfidfTransformer```) и сингулярное разложение (оно же – латентый семантический анализ) (```sklearn.decomposition.TruncatedSVD```), \n",
    "* 2-ой вариант: тематические модели LDA (```sklearn.decomposition.LatentDirichletAllocation```). \n",
    "\n",
    "Используйте accuracy и F-measure для оценки качества классификации. \n",
    "\n",
    "Ниже написан примерный Pipeline для классификации текстов. \n",
    "\n",
    "Эта часть задания может быть сделана с использованием sklearn. "
   ]
  },
  {
   "cell_type": "code",
   "execution_count": 99,
   "metadata": {},
   "outputs": [],
   "source": [
    "from sklearn.model_selection import train_test_split\n",
    "from sklearn.linear_model import LogisticRegression\n",
    "from sklearn.metrics import classification_report\n",
    "from sklearn.feature_extraction.text import TfidfVectorizer\n",
    "from sklearn.decomposition import TruncatedSVD\n",
    "import xgboost\n",
    "from sklearn.ensemble import RandomForestClassifier\n",
    "from sklearn.pipeline import Pipeline"
   ]
  },
  {
   "cell_type": "code",
   "execution_count": 98,
   "metadata": {},
   "outputs": [
    {
     "data": {
      "text/plain": [
       " 1    36480\n",
       " 0     5645\n",
       "-1     4376\n",
       "Name: label, dtype: int64"
      ]
     },
     "execution_count": 98,
     "metadata": {},
     "output_type": "execute_result"
    }
   ],
   "source": [
    "df.label.value_counts()"
   ]
  },
  {
   "cell_type": "code",
   "execution_count": 57,
   "metadata": {},
   "outputs": [],
   "source": [
    "dataset = pd.concat([df[df.label==1].sample(4500), df[df.label==-1]], ignore_index=True)"
   ]
  },
  {
   "cell_type": "code",
   "execution_count": 63,
   "metadata": {},
   "outputs": [],
   "source": [
    "x_train, x_test, y_train, y_test = train_test_split(dataset.lemm_text, dataset.label, \n",
    "                                                    test_size=0.25, random_state=42)"
   ]
  },
  {
   "cell_type": "code",
   "execution_count": 104,
   "metadata": {},
   "outputs": [],
   "source": [
    "#with 1-1 ngram\n",
    "clf = Pipeline([\n",
    "    ('tfidf', TfidfVectorizer(ngram_range=(1,1))),\n",
    "    ('svd', TruncatedSVD(n_components=100)),\n",
    "    ('logreg', LogisticRegression())\n",
    "])"
   ]
  },
  {
   "cell_type": "code",
   "execution_count": 105,
   "metadata": {},
   "outputs": [
    {
     "name": "stderr",
     "output_type": "stream",
     "text": [
      "C:\\ProgramData\\Anaconda3\\lib\\site-packages\\sklearn\\linear_model\\logistic.py:432: FutureWarning: Default solver will be changed to 'lbfgs' in 0.22. Specify a solver to silence this warning.\n",
      "  FutureWarning)\n"
     ]
    },
    {
     "name": "stdout",
     "output_type": "stream",
     "text": [
      "              precision    recall  f1-score   support\n",
      "\n",
      "          -1       0.90      0.88      0.89      1097\n",
      "           1       0.88      0.90      0.89      1122\n",
      "\n",
      "    accuracy                           0.89      2219\n",
      "   macro avg       0.89      0.89      0.89      2219\n",
      "weighted avg       0.89      0.89      0.89      2219\n",
      "\n"
     ]
    }
   ],
   "source": [
    "clf.fit(x_train, y_train)\n",
    "preds = clf.predict(x_test)\n",
    "print(classification_report(y_test, preds))"
   ]
  },
  {
   "cell_type": "code",
   "execution_count": 102,
   "metadata": {},
   "outputs": [
    {
     "name": "stderr",
     "output_type": "stream",
     "text": [
      "C:\\ProgramData\\Anaconda3\\lib\\site-packages\\sklearn\\linear_model\\logistic.py:432: FutureWarning: Default solver will be changed to 'lbfgs' in 0.22. Specify a solver to silence this warning.\n",
      "  FutureWarning)\n"
     ]
    },
    {
     "name": "stdout",
     "output_type": "stream",
     "text": [
      "              precision    recall  f1-score   support\n",
      "\n",
      "          -1       0.88      0.86      0.87      1097\n",
      "           1       0.87      0.89      0.88      1122\n",
      "\n",
      "    accuracy                           0.87      2219\n",
      "   macro avg       0.88      0.87      0.87      2219\n",
      "weighted avg       0.87      0.87      0.87      2219\n",
      "\n"
     ]
    }
   ],
   "source": [
    "# with 1-2 ngram\n",
    "clf = Pipeline([\n",
    "    ('tfidf', TfidfVectorizer(ngram_range=(1,2))),\n",
    "    ('svd', TruncatedSVD(n_components=100)),\n",
    "    ('logreg', LogisticRegression())\n",
    "])\n",
    "clf.fit(x_train, y_train)\n",
    "preds = clf.predict(x_test)\n",
    "print(classification_report(y_test, preds))"
   ]
  },
  {
   "cell_type": "code",
   "execution_count": 103,
   "metadata": {},
   "outputs": [
    {
     "name": "stderr",
     "output_type": "stream",
     "text": [
      "C:\\ProgramData\\Anaconda3\\lib\\site-packages\\sklearn\\linear_model\\logistic.py:432: FutureWarning: Default solver will be changed to 'lbfgs' in 0.22. Specify a solver to silence this warning.\n",
      "  FutureWarning)\n"
     ]
    },
    {
     "name": "stdout",
     "output_type": "stream",
     "text": [
      "              precision    recall  f1-score   support\n",
      "\n",
      "          -1       0.88      0.86      0.87      1097\n",
      "           1       0.87      0.89      0.88      1122\n",
      "\n",
      "    accuracy                           0.88      2219\n",
      "   macro avg       0.88      0.88      0.88      2219\n",
      "weighted avg       0.88      0.88      0.88      2219\n",
      "\n"
     ]
    }
   ],
   "source": [
    "# with char ngram\n",
    "clf = Pipeline([\n",
    "    ('tfidf', TfidfVectorizer(ngram_range=(4,6), analyzer='char')),\n",
    "    ('svd', TruncatedSVD(n_components=100)),\n",
    "    ('logreg', LogisticRegression())\n",
    "])\n",
    "clf.fit(x_train, y_train)\n",
    "preds = clf.predict(x_test)\n",
    "print(classification_report(y_test, preds))"
   ]
  }
 ],
 "metadata": {
  "kernelspec": {
   "display_name": "Python 3",
   "language": "python",
   "name": "python3"
  },
  "language_info": {
   "codemirror_mode": {
    "name": "ipython",
    "version": 3
   },
   "file_extension": ".py",
   "mimetype": "text/x-python",
   "name": "python",
   "nbconvert_exporter": "python",
   "pygments_lexer": "ipython3",
   "version": "3.7.3"
  }
 },
 "nbformat": 4,
 "nbformat_minor": 4
}
