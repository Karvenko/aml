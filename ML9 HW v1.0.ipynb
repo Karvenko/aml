{
 "cells": [
  {
   "cell_type": "markdown",
   "metadata": {},
   "source": [
    "# Я использовал предобработку данных из ДЗ прошлого курса. убрал мысли вслух и описания."
   ]
  },
  {
   "cell_type": "code",
   "execution_count": 1,
   "metadata": {},
   "outputs": [],
   "source": [
    "from sklearn.datasets import load_boston\n",
    "import pandas as pd\n",
    "import seaborn as sns\n",
    "from sklearn.model_selection import train_test_split\n",
    "from sklearn.linear_model import LinearRegression\n",
    "from sklearn.metrics import mean_squared_error, mean_absolute_error, r2_score\n",
    "import numpy as np\n",
    "import matplotlib.pyplot as plt\n",
    "\n",
    "%matplotlib inline\n",
    "from pylab import rcParams"
   ]
  },
  {
   "cell_type": "code",
   "execution_count": 2,
   "metadata": {},
   "outputs": [],
   "source": [
    "# Результаты регрессии сильно варьируются от запуска к запуску, поэтому результат надо усреднять. \n",
    "# У среднего хотя бы пара разрядов после запятой не пляшет\n",
    "def run_many(features, target, num_runs=1000):\n",
    "    \n",
    "    result = 0\n",
    "    max_score = -100\n",
    "    min_score = 1\n",
    "    \n",
    "    for i in range(num_runs):\n",
    "        X_train, X_test, y_train, y_test = train_test_split(features, target, test_size=0.3)\n",
    "        model = LinearRegression()\n",
    "        model.fit(X_train, y_train)\n",
    "        cur_score = model.score(X_test, y_test)\n",
    "        result += cur_score\n",
    "        if cur_score > max_score:\n",
    "            max_score = cur_score\n",
    "        if cur_score < min_score:\n",
    "            min_score = cur_score\n",
    "            \n",
    "    result = result / num_runs\n",
    "        \n",
    "    return result, max_score, min_score"
   ]
  },
  {
   "cell_type": "code",
   "execution_count": 3,
   "metadata": {},
   "outputs": [],
   "source": [
    "data = pd.read_csv(load_boston()['filename'], skiprows=1)"
   ]
  },
  {
   "cell_type": "code",
   "execution_count": 4,
   "metadata": {},
   "outputs": [
    {
     "data": {
      "text/html": [
       "<div>\n",
       "<style scoped>\n",
       "    .dataframe tbody tr th:only-of-type {\n",
       "        vertical-align: middle;\n",
       "    }\n",
       "\n",
       "    .dataframe tbody tr th {\n",
       "        vertical-align: top;\n",
       "    }\n",
       "\n",
       "    .dataframe thead th {\n",
       "        text-align: right;\n",
       "    }\n",
       "</style>\n",
       "<table border=\"1\" class=\"dataframe\">\n",
       "  <thead>\n",
       "    <tr style=\"text-align: right;\">\n",
       "      <th></th>\n",
       "      <th>CRIM</th>\n",
       "      <th>ZN</th>\n",
       "      <th>INDUS</th>\n",
       "      <th>CHAS</th>\n",
       "      <th>NOX</th>\n",
       "      <th>RM</th>\n",
       "      <th>AGE</th>\n",
       "      <th>DIS</th>\n",
       "      <th>RAD</th>\n",
       "      <th>TAX</th>\n",
       "      <th>PTRATIO</th>\n",
       "      <th>B</th>\n",
       "      <th>LSTAT</th>\n",
       "      <th>MEDV</th>\n",
       "    </tr>\n",
       "  </thead>\n",
       "  <tbody>\n",
       "    <tr>\n",
       "      <th>0</th>\n",
       "      <td>0.00632</td>\n",
       "      <td>18.0</td>\n",
       "      <td>2.31</td>\n",
       "      <td>0</td>\n",
       "      <td>0.538</td>\n",
       "      <td>6.575</td>\n",
       "      <td>65.2</td>\n",
       "      <td>4.0900</td>\n",
       "      <td>1</td>\n",
       "      <td>296</td>\n",
       "      <td>15.3</td>\n",
       "      <td>396.90</td>\n",
       "      <td>4.98</td>\n",
       "      <td>24.0</td>\n",
       "    </tr>\n",
       "    <tr>\n",
       "      <th>1</th>\n",
       "      <td>0.02731</td>\n",
       "      <td>0.0</td>\n",
       "      <td>7.07</td>\n",
       "      <td>0</td>\n",
       "      <td>0.469</td>\n",
       "      <td>6.421</td>\n",
       "      <td>78.9</td>\n",
       "      <td>4.9671</td>\n",
       "      <td>2</td>\n",
       "      <td>242</td>\n",
       "      <td>17.8</td>\n",
       "      <td>396.90</td>\n",
       "      <td>9.14</td>\n",
       "      <td>21.6</td>\n",
       "    </tr>\n",
       "    <tr>\n",
       "      <th>2</th>\n",
       "      <td>0.02729</td>\n",
       "      <td>0.0</td>\n",
       "      <td>7.07</td>\n",
       "      <td>0</td>\n",
       "      <td>0.469</td>\n",
       "      <td>7.185</td>\n",
       "      <td>61.1</td>\n",
       "      <td>4.9671</td>\n",
       "      <td>2</td>\n",
       "      <td>242</td>\n",
       "      <td>17.8</td>\n",
       "      <td>392.83</td>\n",
       "      <td>4.03</td>\n",
       "      <td>34.7</td>\n",
       "    </tr>\n",
       "    <tr>\n",
       "      <th>3</th>\n",
       "      <td>0.03237</td>\n",
       "      <td>0.0</td>\n",
       "      <td>2.18</td>\n",
       "      <td>0</td>\n",
       "      <td>0.458</td>\n",
       "      <td>6.998</td>\n",
       "      <td>45.8</td>\n",
       "      <td>6.0622</td>\n",
       "      <td>3</td>\n",
       "      <td>222</td>\n",
       "      <td>18.7</td>\n",
       "      <td>394.63</td>\n",
       "      <td>2.94</td>\n",
       "      <td>33.4</td>\n",
       "    </tr>\n",
       "    <tr>\n",
       "      <th>4</th>\n",
       "      <td>0.06905</td>\n",
       "      <td>0.0</td>\n",
       "      <td>2.18</td>\n",
       "      <td>0</td>\n",
       "      <td>0.458</td>\n",
       "      <td>7.147</td>\n",
       "      <td>54.2</td>\n",
       "      <td>6.0622</td>\n",
       "      <td>3</td>\n",
       "      <td>222</td>\n",
       "      <td>18.7</td>\n",
       "      <td>396.90</td>\n",
       "      <td>5.33</td>\n",
       "      <td>36.2</td>\n",
       "    </tr>\n",
       "  </tbody>\n",
       "</table>\n",
       "</div>"
      ],
      "text/plain": [
       "      CRIM    ZN  INDUS  CHAS    NOX     RM   AGE     DIS  RAD  TAX  PTRATIO  \\\n",
       "0  0.00632  18.0   2.31     0  0.538  6.575  65.2  4.0900    1  296     15.3   \n",
       "1  0.02731   0.0   7.07     0  0.469  6.421  78.9  4.9671    2  242     17.8   \n",
       "2  0.02729   0.0   7.07     0  0.469  7.185  61.1  4.9671    2  242     17.8   \n",
       "3  0.03237   0.0   2.18     0  0.458  6.998  45.8  6.0622    3  222     18.7   \n",
       "4  0.06905   0.0   2.18     0  0.458  7.147  54.2  6.0622    3  222     18.7   \n",
       "\n",
       "        B  LSTAT  MEDV  \n",
       "0  396.90   4.98  24.0  \n",
       "1  396.90   9.14  21.6  \n",
       "2  392.83   4.03  34.7  \n",
       "3  394.63   2.94  33.4  \n",
       "4  396.90   5.33  36.2  "
      ]
     },
     "execution_count": 4,
     "metadata": {},
     "output_type": "execute_result"
    }
   ],
   "source": [
    "data.head()"
   ]
  },
  {
   "cell_type": "code",
   "execution_count": 5,
   "metadata": {},
   "outputs": [
    {
     "data": {
      "text/plain": [
       "(0.5329206519007724, 0.6476001987872455, 0.37247737700539957)"
      ]
     },
     "execution_count": 5,
     "metadata": {},
     "output_type": "execute_result"
    }
   ],
   "source": [
    "# Let's start from simple thing - LSTAT is almost the same as MEDV :)\n",
    "# X_train, X_test, y_train, y_test = train_test_split(np.array(data['LSTAT']).reshape(-1,1), data['MEDV'], test_size=0.3)\n",
    "\n",
    "# model = LinearRegression()\n",
    "# model.fit(X_train, y_train)\n",
    "\n",
    "run_many(np.array(data['LSTAT']).reshape(-1,1), data['MEDV'])"
   ]
  },
  {
   "cell_type": "markdown",
   "metadata": {},
   "source": [
    "Первую оценку - 0.534 получили без какого-либо анализа. Минимальная оценка - 0.3, максимальная - 0.64. Пробуем улучшить. "
   ]
  },
  {
   "cell_type": "markdown",
   "metadata": {},
   "source": [
    "Цена дома коррелирует со следующими параметрами (corr>0.5):\n",
    " - LSTAT: -0.85\n",
    " - RM: 0.63\n",
    " - INDUS: -0.58\n",
    " - TAX, PTRATIO, NOX, CRIM: -0.56\n",
    " - AGE: -0.55\n",
    "    \n",
    "При этом, NOX & CRIM обладают вымоким коэффициентом корреляции 0.82, поэтому в модель нужно ставить только один из признаков. Слегка странно видеть корреляцию между преступностью и экологией, но при здравом размышлении - логично :) Бедные районы находятся ближе к большим дорогам и фабрикам"
   ]
  },
  {
   "cell_type": "markdown",
   "metadata": {},
   "source": [
    "Зависимость от RM похожа на линейную. Зависимость от LSTAT похожа на корень (не обязательно квадратный... проверим позже)"
   ]
  },
  {
   "cell_type": "markdown",
   "metadata": {},
   "source": [
    "В колонке цен есть много значений 50 - очень похоже на ограничение сверху. Несмотря на то, что в оригинальном наборе данных про это не сказано ни слова, многие исследователи считают, что эти значения надо удалять"
   ]
  },
  {
   "cell_type": "code",
   "execution_count": 6,
   "metadata": {},
   "outputs": [
    {
     "name": "stdout",
     "output_type": "stream",
     "text": [
      "MEDV == 50 count: 16\n",
      "40 <= MEDV < 50 count: 15\n"
     ]
    }
   ],
   "source": [
    "print(f'MEDV == 50 count: {len(data[data[\"MEDV\"]==50])}')\n",
    "print(f'40 <= MEDV < 50 count: {len(data[(data[\"MEDV\"]<50) & (data[\"MEDV\"]>=40)])}')"
   ]
  },
  {
   "cell_type": "markdown",
   "metadata": {},
   "source": [
    "Значений 50 больше, чем в диапазоне 40-50. удаляем"
   ]
  },
  {
   "cell_type": "code",
   "execution_count": 7,
   "metadata": {},
   "outputs": [],
   "source": [
    "data = data.drop(data[data['MEDV']==50].index)"
   ]
  },
  {
   "cell_type": "markdown",
   "metadata": {},
   "source": [
    "Еще один метод определения важных параметров."
   ]
  },
  {
   "cell_type": "code",
   "execution_count": 8,
   "metadata": {},
   "outputs": [
    {
     "name": "stdout",
     "output_type": "stream",
     "text": [
      "      Specs       Score\n",
      "12    LSTAT  666.627892\n",
      "5        RM  435.309814\n",
      "2     INDUS  274.507475\n",
      "9       TAX  237.855059\n",
      "4       NOX  185.148836\n",
      "10  PTRATIO  179.568192\n",
      "6       AGE  156.620474\n",
      "8       RAD  143.190234\n",
      "0      CRIM  123.991786\n",
      "1        ZN   95.527784\n",
      "7       DIS   76.829959\n",
      "11        B   74.972403\n",
      "3      CHAS    2.745998\n"
     ]
    }
   ],
   "source": [
    "#Automatic feature selection\n",
    "import pandas as pd\n",
    "import numpy as np\n",
    "from sklearn.feature_selection import SelectKBest\n",
    "from sklearn.feature_selection import f_regression\n",
    "\n",
    "X = data.iloc[:,0:13]  #independent columns\n",
    "y = np.array(data.iloc[:,-1])    #target column i.e price range\n",
    "\n",
    "#apply SelectKBest class to extract top 10 best features\n",
    "bestfeatures = SelectKBest(score_func=f_regression, k=13)\n",
    "fit = bestfeatures.fit(X,y)\n",
    "dfscores = pd.DataFrame(fit.scores_)\n",
    "dfcolumns = pd.DataFrame(X.columns)\n",
    "#concat two dataframes for better visualization \n",
    "featureScores = pd.concat([dfcolumns,dfscores],axis=1)\n",
    "featureScores.columns = ['Specs','Score']  #naming the dataframe columns\n",
    "print(featureScores.nlargest(13,'Score'))  #print 10 best features\n",
    "\n"
   ]
  },
  {
   "cell_type": "markdown",
   "metadata": {},
   "source": [
    "В итоговой модели я постепенно увеличивал кол-во параметров, добавляя их по старшинству из этого списка. NOX сильно коррелирует с INDUS, добавление его в модель не улучшит результат"
   ]
  },
  {
   "cell_type": "code",
   "execution_count": 9,
   "metadata": {},
   "outputs": [],
   "source": [
    "#After several tries\n",
    "data['LSTAT_sqrt'] = 1/(data['LSTAT']**(1/3))"
   ]
  },
  {
   "cell_type": "code",
   "execution_count": 10,
   "metadata": {},
   "outputs": [
    {
     "data": {
      "image/png": "[encoded data removed]",
      "text/plain": [
       "<Figure size 432x288 with 1 Axes>"
      ]
     },
     "metadata": {
      "needs_background": "light"
     },
     "output_type": "display_data"
    }
   ],
   "source": [
    "plt.scatter(data['LSTAT_sqrt'], data['MEDV'], marker='o')\n",
    "plt.show()"
   ]
  },
  {
   "cell_type": "code",
   "execution_count": 11,
   "metadata": {},
   "outputs": [
    {
     "data": {
      "text/plain": [
       "(0.6695994079201247, 0.7773040846743832, 0.5291875025252628)"
      ]
     },
     "execution_count": 11,
     "metadata": {},
     "output_type": "execute_result"
    }
   ],
   "source": [
    "# result = 0\n",
    "# for i in range(1000):\n",
    "#     X_train, X_test, y_train, y_test = train_test_split(np.array(data['LSTAT_sqrt']).reshape(-1,1), data['MEDV'], test_size=0.3)\n",
    "#     model = LinearRegression()\n",
    "#     model.fit(X_train, y_train)\n",
    "#     result += model.score(X_test, y_test)\n",
    "\n",
    "run_many(np.array(data['LSTAT_sqrt']).reshape(-1,1), data['MEDV'])"
   ]
  },
  {
   "cell_type": "markdown",
   "metadata": {},
   "source": [
    "Использование преобразования позволило увеличить оценку примерно на 0.13"
   ]
  },
  {
   "cell_type": "markdown",
   "metadata": {},
   "source": [
    "Попробуем построить модель на основе двух свойств - $\\frac{1}{\\sqrt[3]{LSTAT}}$ & RM"
   ]
  },
  {
   "cell_type": "code",
   "execution_count": 12,
   "metadata": {},
   "outputs": [
    {
     "data": {
      "text/plain": [
       "(0.7024243575037071, 0.7931370495929798, 0.5211889783789713)"
      ]
     },
     "execution_count": 12,
     "metadata": {},
     "output_type": "execute_result"
    }
   ],
   "source": [
    "# result = 0\n",
    "# for i in range(1000):\n",
    "#     X_train, X_test, y_train, y_test = train_test_split(np.array(data[['LSTAT_sqrt', 'RM']]), data['MEDV'], test_size=0.3)\n",
    "#     model = LinearRegression()\n",
    "#     model.fit(X_train, y_train)\n",
    "#     result += model.score(X_test, y_test)\n",
    "#     \n",
    "# result\n",
    "\n",
    "run_many(data[['LSTAT_sqrt', 'RM']], data['MEDV'])"
   ]
  },
  {
   "cell_type": "code",
   "execution_count": 13,
   "metadata": {},
   "outputs": [
    {
     "name": "stdout",
     "output_type": "stream",
     "text": [
      "R2: \t 0.7411039648118618\n",
      "RMSE: \t 3.9976586563745293\n",
      "MAE: \t 3.109475515090638\n"
     ]
    }
   ],
   "source": [
    "X_train, X_test, y_train, y_test = train_test_split(np.array(data[['LSTAT_sqrt', 'RM']]), data['MEDV'], test_size=0.3)\n",
    "model = LinearRegression()\n",
    "model.fit(X_train, y_train)\n",
    "\n",
    "y_pred = model.predict(X_test)\n",
    "\n",
    "print(\"R2: \\t\", r2_score(y_test, y_pred))\n",
    "print(\"RMSE: \\t\", np.sqrt(mean_squared_error(y_test, y_pred)))\n",
    "print(\"MAE: \\t\", mean_absolute_error(y_test, y_pred))"
   ]
  },
  {
   "cell_type": "markdown",
   "metadata": {},
   "source": [
    "0.7 - лучший результат, которого я достиг при использовании двух переменных. Ошибка предсказания цены составляет примерно 15-20 процентов от среднего значения. Не знаю, насколько это хорошо, но лучше чем в лекциях про Лос-Анжелес))"
   ]
  },
  {
   "cell_type": "markdown",
   "metadata": {},
   "source": [
    "Ниже - лучший результат, который я получил, играясь с различными комбинациями столбцов. 0.77 - весьма неплохо, ИМХО :)"
   ]
  },
  {
   "cell_type": "code",
   "execution_count": 14,
   "metadata": {},
   "outputs": [
    {
     "data": {
      "text/plain": [
       "(0.773165941875828, 0.8469964520292825, 0.6171578691031026)"
      ]
     },
     "execution_count": 14,
     "metadata": {},
     "output_type": "execute_result"
    }
   ],
   "source": [
    "run_many(data[['LSTAT_sqrt', 'RM', 'INDUS', 'TAX', 'PTRATIO', 'CRIM', 'RAD', 'B']], data['MEDV'])"
   ]
  },
  {
   "cell_type": "code",
   "execution_count": 15,
   "metadata": {},
   "outputs": [
    {
     "name": "stdout",
     "output_type": "stream",
     "text": [
      "R2: \t 0.7964132432241893\n",
      "RMSE: \t 3.652733361597571\n",
      "MAE: \t 2.7891683765297968\n"
     ]
    }
   ],
   "source": [
    "X_train, X_test, y_train, y_test = train_test_split(np.array(\n",
    "    data[['LSTAT_sqrt', 'RM', 'INDUS', 'TAX', 'PTRATIO', 'CRIM', 'RAD', 'B']]), data['MEDV'], test_size=0.3)\n",
    "model = LinearRegression()\n",
    "model.fit(X_train, y_train)\n",
    "\n",
    "y_pred = model.predict(X_test)\n",
    "\n",
    "print(\"R2: \\t\", r2_score(y_test, y_pred))\n",
    "print(\"RMSE: \\t\", np.sqrt(mean_squared_error(y_test, y_pred)))\n",
    "print(\"MAE: \\t\", mean_absolute_error(y_test, y_pred))"
   ]
  },
  {
   "cell_type": "markdown",
   "metadata": {},
   "source": [
    "Ошибка стала меньше"
   ]
  },
  {
   "cell_type": "markdown",
   "metadata": {},
   "source": [
    "Преобразования, подобного тому, что я сделал для LSTAT, я не смог подобрать... Все же время на учебную задачу должно быть в разумных пределах :)"
   ]
  },
  {
   "cell_type": "markdown",
   "metadata": {},
   "source": [
    "# Новая работа начинается с этого места"
   ]
  },
  {
   "cell_type": "code",
   "execution_count": 16,
   "metadata": {},
   "outputs": [],
   "source": [
    "def print_scores(y_real, y_pred):\n",
    "    print(\"R2: \\t\", r2_score(y_real, y_pred))\n",
    "    print(\"RMSE: \\t\", np.sqrt(mean_squared_error(y_real, y_pred)))\n",
    "    print(\"MAE: \\t\", mean_absolute_error(y_real, y_pred))"
   ]
  },
  {
   "cell_type": "code",
   "execution_count": 17,
   "metadata": {},
   "outputs": [],
   "source": [
    "from sklearn.linear_model import LinearRegression,LassoCV, Ridge, LassoLarsCV,ElasticNetCV\n",
    "from sklearn.model_selection import GridSearchCV, cross_val_score, learning_curve\n",
    "from sklearn.ensemble import RandomForestRegressor, AdaBoostRegressor, ExtraTreesRegressor, GradientBoostingRegressor\n",
    "from sklearn.preprocessing import StandardScaler, Normalizer, RobustScaler\n",
    "from xgboost import XGBRegressor\n",
    "from lightgbm import LGBMRegressor\n",
    "from catboost import CatBoostRegressor"
   ]
  },
  {
   "cell_type": "code",
   "execution_count": 18,
   "metadata": {},
   "outputs": [],
   "source": [
    "X = data[['CRIM', 'ZN', 'INDUS', 'CHAS', 'NOX', 'RM', 'AGE', 'DIS', 'RAD', 'TAX',\n",
    "          'PTRATIO', 'LSTAT_sqrt']]\n",
    "y = data['MEDV']"
   ]
  },
  {
   "cell_type": "code",
   "execution_count": 19,
   "metadata": {},
   "outputs": [],
   "source": [
    "# Немного преобразуем данные - сделаем их ближе к нормальному распределению\n",
    "X = np.log1p(X)"
   ]
  },
  {
   "cell_type": "code",
   "execution_count": 20,
   "metadata": {},
   "outputs": [],
   "source": [
    "X_train, X_test, y_train, y_test = train_test_split(X, y, test_size=0.25, random_state=42)"
   ]
  },
  {
   "cell_type": "code",
   "execution_count": 32,
   "metadata": {},
   "outputs": [],
   "source": [
    "model = CatBoostRegressor(verbose=0)\n"
   ]
  },
  {
   "cell_type": "code",
   "execution_count": 33,
   "metadata": {},
   "outputs": [
    {
     "name": "stdout",
     "output_type": "stream",
     "text": [
      "R2: \t 0.8762653416433437\n",
      "RMSE: \t 2.504730814032835\n",
      "MAE: \t 1.8544750922521116\n"
     ]
    }
   ],
   "source": [
    "model.fit(X_train, y_train)\n",
    "preds = model.predict(X_test)\n",
    "print_scores(y_test, preds)"
   ]
  },
  {
   "cell_type": "markdown",
   "metadata": {},
   "source": [
    "### Ниже результаты для разных моделей без подбора параметров. Видно, что бустинги существенно лучше регрессий. Будем работать только с бустингами, поэтому данные можно не нормализовывать"
   ]
  },
  {
   "cell_type": "markdown",
   "metadata": {},
   "source": [
    "model = XGBRegressor(objective='reg:squarederror')\n",
    "R2: \t 0.8581606174237356\n",
    "RMSE: \t 2.6817222353260854\n",
    "MAE: \t 1.9989641980427066\n",
    "\n",
    "model = LGBMRegressor()\n",
    "R2: \t 0.8797554690258083\n",
    "RMSE: \t 2.469153236404405\n",
    "MAE: \t 1.8475251088977604\n",
    "\n",
    "\n",
    "model = LassoCV(cv=10, normalize=True)\n",
    "R2: \t 0.7770551830609225\n",
    "RMSE: \t 3.3621266336171165\n",
    "MAE: \t 2.669845844584301\n",
    "\n",
    "model = ElasticNetCV(cv=10, normalize=True)\n",
    "R2: \t 0.7689105669692721\n",
    "RMSE: \t 3.4229883450107645\n",
    "MAE: \t 2.7236992011899224\n",
    "\n",
    "model = LassoLarsCV(cv=10, normalize=True)\n",
    "R2: \t 0.7770349479917484\n",
    "RMSE: \t 3.3622792079677923\n",
    "MAE: \t 2.6701010206887843\n",
    "\n",
    "model = AdaBoostRegressor(loss='exponential')\n",
    "R2: \t 0.8403101259385909\n",
    "RMSE: \t 2.8454703597014324\n",
    "MAE: \t 2.2328702190833867\n",
    "\n",
    "model = ExtraTreesRegressor()\n",
    "R2: \t 0.8897846531269153\n",
    "RMSE: \t 2.3639398008650345\n",
    "MAE: \t 1.7596747967479676\n",
    "\n",
    "model = GradientBoostingRegressor(loss='ls')\n",
    "R2: \t 0.8724626374937836\n",
    "RMSE: \t 2.5429281685842247\n",
    "MAE: \t 1.8716998016794788\n",
    "\n",
    "model = CatBoostRegressor(verbose=0)\n",
    "R2: \t 0.8762482470733898\n",
    "RMSE: \t 2.504903828683421\n",
    "MAE: \t 1.854637729167035"
   ]
  },
  {
   "cell_type": "markdown",
   "metadata": {},
   "source": [
    "## для подбора параметров возьмем LightGBM, ExtraTrees, GradientBoostingRegressor, CatBoostRegressor"
   ]
  },
  {
   "cell_type": "code",
   "execution_count": 22,
   "metadata": {},
   "outputs": [],
   "source": [
    "from sklearn.model_selection import GridSearchCV"
   ]
  },
  {
   "cell_type": "markdown",
   "metadata": {},
   "source": [
    "## LightGBM tuning"
   ]
  },
  {
   "cell_type": "code",
   "execution_count": 80,
   "metadata": {},
   "outputs": [],
   "source": [
    "cost_func = ['regression', 'regression_l1', 'huber', 'fair', 'poisson', 'quantile', 'mape', 'gamma', 'tweedie']\n",
    "iters = [10, 30, 100, 300]\n",
    "learning_r = [0.01, 0.03, 0.1, 0.3, 1]\n",
    "min_leaf = [10, 20, 30, 40, 50, 80, 100]\n",
    "bagging = [0.25, 0.5, 0.75, 1]"
   ]
  },
  {
   "cell_type": "code",
   "execution_count": 81,
   "metadata": {},
   "outputs": [],
   "source": [
    "param_grid = dict(objective=cost_func, n_iter=iters, learning_rate=learning_r, min_data_in_leaf=min_leaf, bagging_fraction=bagging)"
   ]
  },
  {
   "cell_type": "code",
   "execution_count": 82,
   "metadata": {},
   "outputs": [],
   "source": [
    "model = LGBMRegressor(n_jobs=-1)"
   ]
  },
  {
   "cell_type": "code",
   "execution_count": 83,
   "metadata": {},
   "outputs": [],
   "source": [
    "grid = GridSearchCV(model, param_grid, cv=10, scoring='neg_mean_squared_error', n_jobs=-1, verbose=1)"
   ]
  },
  {
   "cell_type": "code",
   "execution_count": 84,
   "metadata": {},
   "outputs": [
    {
     "name": "stdout",
     "output_type": "stream",
     "text": [
      "Fitting 10 folds for each of 5040 candidates, totalling 50400 fits\n"
     ]
    },
    {
     "name": "stderr",
     "output_type": "stream",
     "text": [
      "[Parallel(n_jobs=-1)]: Using backend LokyBackend with 4 concurrent workers.\n",
      "[Parallel(n_jobs=-1)]: Done  50 tasks      | elapsed:    3.4s\n",
      "[Parallel(n_jobs=-1)]: Done 1238 tasks      | elapsed:   28.5s\n",
      "[Parallel(n_jobs=-1)]: Done 2884 tasks      | elapsed:   55.9s\n",
      "[Parallel(n_jobs=-1)]: Done 5384 tasks      | elapsed:  1.6min\n",
      "[Parallel(n_jobs=-1)]: Done 8295 tasks      | elapsed:  2.5min\n",
      "[Parallel(n_jobs=-1)]: Done 12181 tasks      | elapsed:  3.5min\n",
      "[Parallel(n_jobs=-1)]: Done 17228 tasks      | elapsed:  4.8min\n",
      "[Parallel(n_jobs=-1)]: Done 22751 tasks      | elapsed:  6.3min\n",
      "[Parallel(n_jobs=-1)]: Done 29801 tasks      | elapsed:  8.3min\n",
      "[Parallel(n_jobs=-1)]: Done 36352 tasks      | elapsed: 10.3min\n",
      "[Parallel(n_jobs=-1)]: Done 44213 tasks      | elapsed: 12.4min\n",
      "[Parallel(n_jobs=-1)]: Done 50400 out of 50400 | elapsed: 14.0min finished\n",
      "C:\\ProgramData\\Anaconda3\\lib\\site-packages\\sklearn\\model_selection\\_search.py:813: DeprecationWarning: The default of the `iid` parameter will change from True to False in version 0.22 and will be removed in 0.24. This will change numeric results when test-set sizes are unequal.\n",
      "  DeprecationWarning)\n",
      "C:\\ProgramData\\Anaconda3\\lib\\site-packages\\lightgbm\\engine.py:148: UserWarning: Found `n_iter` in params. Will use it instead of argument\n",
      "  warnings.warn(\"Found `{}` in params. Will use it instead of argument\".format(alias))\n"
     ]
    },
    {
     "data": {
      "text/plain": [
       "GridSearchCV(cv=10, error_score='raise-deprecating',\n",
       "             estimator=LGBMRegressor(boosting_type='gbdt', class_weight=None,\n",
       "                                     colsample_bytree=1.0,\n",
       "                                     importance_type='split', learning_rate=0.1,\n",
       "                                     max_depth=-1, min_child_samples=20,\n",
       "                                     min_child_weight=0.001, min_split_gain=0.0,\n",
       "                                     n_estimators=100, n_jobs=-1, num_leaves=31,\n",
       "                                     objective=None, random_state=None,\n",
       "                                     reg_alpha=0.0, reg_lambd...\n",
       "             param_grid={'bagging_fraction': [0.25, 0.5, 0.75, 1],\n",
       "                         'learning_rate': [0.01, 0.03, 0.1, 0.3, 1],\n",
       "                         'min_data_in_leaf': [10, 20, 30, 40, 50, 80, 100],\n",
       "                         'n_iter': [10, 30, 100, 300],\n",
       "                         'objective': ['regression', 'regression_l1', 'huber',\n",
       "                                       'fair', 'poisson', 'quantile', 'mape',\n",
       "                                       'gamma', 'tweedie']},\n",
       "             pre_dispatch='2*n_jobs', refit=True, return_train_score=False,\n",
       "             scoring='neg_mean_squared_error', verbose=1)"
      ]
     },
     "execution_count": 84,
     "metadata": {},
     "output_type": "execute_result"
    }
   ],
   "source": [
    "# grid.fit(X_train, y_train)"
   ]
  },
  {
   "cell_type": "code",
   "execution_count": 85,
   "metadata": {},
   "outputs": [
    {
     "data": {
      "text/plain": [
       "LGBMRegressor(bagging_fraction=0.25, boosting_type='gbdt', class_weight=None,\n",
       "              colsample_bytree=1.0, importance_type='split', learning_rate=0.03,\n",
       "              max_depth=-1, min_child_samples=20, min_child_weight=0.001,\n",
       "              min_data_in_leaf=10, min_split_gain=0.0, n_estimators=100,\n",
       "              n_iter=300, n_jobs=-1, num_leaves=31, objective='regression_l1',\n",
       "              random_state=None, reg_alpha=0.0, reg_lambda=0.0, silent=True,\n",
       "              subsample=1.0, subsample_for_bin=200000, subsample_freq=0)"
      ]
     },
     "execution_count": 85,
     "metadata": {},
     "output_type": "execute_result"
    }
   ],
   "source": [
    "grid.best_estimator_\n",
    "# LGBMRegressor(bagging_fraction=0.25, boosting_type='gbdt', class_weight=None,\n",
    "#               colsample_bytree=1.0, importance_type='split', learning_rate=0.03,\n",
    "#               max_depth=-1, min_child_samples=20, min_child_weight=0.001,\n",
    "#               min_data_in_leaf=10, min_split_gain=0.0, n_estimators=100,\n",
    "#               n_iter=300, n_jobs=-1, num_leaves=31, objective='regression_l1',\n",
    "#               random_state=None, reg_alpha=0.0, reg_lambda=0.0, silent=True,\n",
    "#               subsample=1.0, subsample_for_bin=200000, subsample_freq=0)"
   ]
  },
  {
   "cell_type": "code",
   "execution_count": 86,
   "metadata": {},
   "outputs": [],
   "source": [
    "LGBM_model = LGBMRegressor(bagging_fraction=0.25, boosting_type='gbdt', class_weight=None,\n",
    "              colsample_bytree=1.0, importance_type='split', learning_rate=0.03,\n",
    "              max_depth=-1, min_child_samples=20, min_child_weight=0.001,\n",
    "              min_data_in_leaf=10, min_split_gain=0.0, n_estimators=100,\n",
    "              n_iter=300, n_jobs=-1, num_leaves=31, objective='regression_l1',\n",
    "              random_state=None, reg_alpha=0.0, reg_lambda=0.0, silent=True,\n",
    "              subsample=1.0, subsample_for_bin=200000, subsample_freq=0)"
   ]
  },
  {
   "cell_type": "code",
   "execution_count": 90,
   "metadata": {},
   "outputs": [
    {
     "name": "stderr",
     "output_type": "stream",
     "text": [
      "C:\\ProgramData\\Anaconda3\\lib\\site-packages\\lightgbm\\engine.py:148: UserWarning: Found `n_iter` in params. Will use it instead of argument\n",
      "  warnings.warn(\"Found `{}` in params. Will use it instead of argument\".format(alias))\n"
     ]
    },
    {
     "data": {
      "text/plain": [
       "LGBMRegressor(bagging_fraction=0.25, boosting_type='gbdt', class_weight=None,\n",
       "              colsample_bytree=1.0, importance_type='split', learning_rate=0.03,\n",
       "              max_depth=-1, min_child_samples=20, min_child_weight=0.001,\n",
       "              min_data_in_leaf=10, min_split_gain=0.0, n_estimators=100,\n",
       "              n_iter=300, n_jobs=-1, num_leaves=31, objective='regression_l1',\n",
       "              random_state=None, reg_alpha=0.0, reg_lambda=0.0, silent=True,\n",
       "              subsample=1.0, subsample_for_bin=200000, subsample_freq=0)"
      ]
     },
     "execution_count": 90,
     "metadata": {},
     "output_type": "execute_result"
    }
   ],
   "source": [
    "LGBM_model.fit(X_train, y_train)"
   ]
  },
  {
   "cell_type": "code",
   "execution_count": 91,
   "metadata": {},
   "outputs": [],
   "source": [
    "preds = LGBM_model.predict(X_test)"
   ]
  },
  {
   "cell_type": "code",
   "execution_count": 92,
   "metadata": {},
   "outputs": [
    {
     "name": "stdout",
     "output_type": "stream",
     "text": [
      "R2: \t 0.8569488014656543\n",
      "RMSE: \t 2.693153623783459\n",
      "MAE: \t 2.0725595588510006\n"
     ]
    }
   ],
   "source": [
    "print_scores(y_test, preds)"
   ]
  },
  {
   "cell_type": "markdown",
   "metadata": {},
   "source": [
    "## ExtraTree Tuning"
   ]
  },
  {
   "cell_type": "code",
   "execution_count": 48,
   "metadata": {},
   "outputs": [],
   "source": [
    "n_est = [10, 30, 100, 300, 500, 1000]\n",
    "depth = [1, 3, 5, 7, 9, 11, 13, 15, 17, 19]\n"
   ]
  },
  {
   "cell_type": "code",
   "execution_count": 49,
   "metadata": {},
   "outputs": [
    {
     "data": {
      "text/plain": [
       "{'n_estimators': [10, 30, 100, 300, 500, 1000],\n",
       " 'max_depth': [1, 3, 5, 7, 9, 11, 13, 15, 17, 19]}"
      ]
     },
     "execution_count": 49,
     "metadata": {},
     "output_type": "execute_result"
    }
   ],
   "source": [
    "param_grid = dict(n_estimators=n_est, max_depth=depth)\n",
    "param_grid"
   ]
  },
  {
   "cell_type": "code",
   "execution_count": 50,
   "metadata": {},
   "outputs": [],
   "source": [
    "model = ExtraTreesRegressor()"
   ]
  },
  {
   "cell_type": "code",
   "execution_count": 51,
   "metadata": {},
   "outputs": [],
   "source": [
    "grid = GridSearchCV(model, param_grid, cv=10, scoring='neg_mean_squared_error', n_jobs=-1, verbose=1)"
   ]
  },
  {
   "cell_type": "code",
   "execution_count": 52,
   "metadata": {},
   "outputs": [
    {
     "name": "stdout",
     "output_type": "stream",
     "text": [
      "Fitting 10 folds for each of 60 candidates, totalling 600 fits\n"
     ]
    },
    {
     "name": "stderr",
     "output_type": "stream",
     "text": [
      "[Parallel(n_jobs=-1)]: Using backend LokyBackend with 4 concurrent workers.\n",
      "[Parallel(n_jobs=-1)]: Done 176 tasks      | elapsed:   14.3s\n",
      "[Parallel(n_jobs=-1)]: Done 327 tasks      | elapsed:   32.6s\n",
      "[Parallel(n_jobs=-1)]: Done 577 tasks      | elapsed:  1.5min\n",
      "[Parallel(n_jobs=-1)]: Done 600 out of 600 | elapsed:  1.7min finished\n",
      "C:\\ProgramData\\Anaconda3\\lib\\site-packages\\sklearn\\model_selection\\_search.py:813: DeprecationWarning: The default of the `iid` parameter will change from True to False in version 0.22 and will be removed in 0.24. This will change numeric results when test-set sizes are unequal.\n",
      "  DeprecationWarning)\n"
     ]
    },
    {
     "data": {
      "text/plain": [
       "GridSearchCV(cv=10, error_score='raise-deprecating',\n",
       "             estimator=ExtraTreesRegressor(bootstrap=False, criterion='mse',\n",
       "                                           max_depth=None, max_features='auto',\n",
       "                                           max_leaf_nodes=None,\n",
       "                                           min_impurity_decrease=0.0,\n",
       "                                           min_impurity_split=None,\n",
       "                                           min_samples_leaf=1,\n",
       "                                           min_samples_split=2,\n",
       "                                           min_weight_fraction_leaf=0.0,\n",
       "                                           n_estimators='warn', n_jobs=None,\n",
       "                                           oob_score=False, random_state=None,\n",
       "                                           verbose=0, warm_start=False),\n",
       "             iid='warn', n_jobs=-1,\n",
       "             param_grid={'max_depth': [1, 3, 5, 7, 9, 11, 13, 15, 17, 19],\n",
       "                         'n_estimators': [10, 30, 100, 300, 500, 1000]},\n",
       "             pre_dispatch='2*n_jobs', refit=True, return_train_score=False,\n",
       "             scoring='neg_mean_squared_error', verbose=1)"
      ]
     },
     "execution_count": 52,
     "metadata": {},
     "output_type": "execute_result"
    }
   ],
   "source": [
    "grid.fit(X_train, y_train)"
   ]
  },
  {
   "cell_type": "code",
   "execution_count": 53,
   "metadata": {},
   "outputs": [
    {
     "data": {
      "text/plain": [
       "ExtraTreesRegressor(bootstrap=False, criterion='mse', max_depth=15,\n",
       "                    max_features='auto', max_leaf_nodes=None,\n",
       "                    min_impurity_decrease=0.0, min_impurity_split=None,\n",
       "                    min_samples_leaf=1, min_samples_split=2,\n",
       "                    min_weight_fraction_leaf=0.0, n_estimators=300, n_jobs=None,\n",
       "                    oob_score=False, random_state=None, verbose=0,\n",
       "                    warm_start=False)"
      ]
     },
     "execution_count": 53,
     "metadata": {},
     "output_type": "execute_result"
    }
   ],
   "source": [
    "grid.best_estimator_"
   ]
  },
  {
   "cell_type": "code",
   "execution_count": 54,
   "metadata": {},
   "outputs": [],
   "source": [
    "preds = grid.best_estimator_.predict(X_test)"
   ]
  },
  {
   "cell_type": "code",
   "execution_count": 55,
   "metadata": {},
   "outputs": [
    {
     "name": "stdout",
     "output_type": "stream",
     "text": [
      "R2: \t 0.8971198139608294\n",
      "RMSE: \t 2.2839218918632356\n",
      "MAE: \t 1.649597766298583\n"
     ]
    }
   ],
   "source": [
    "print_scores(y_test, preds)"
   ]
  },
  {
   "cell_type": "code",
   "execution_count": 56,
   "metadata": {},
   "outputs": [],
   "source": [
    "ET_model = grid.best_estimator_"
   ]
  },
  {
   "cell_type": "code",
   "execution_count": 57,
   "metadata": {},
   "outputs": [],
   "source": [
    "from sklearn.model_selection import cross_val_score"
   ]
  },
  {
   "cell_type": "code",
   "execution_count": 58,
   "metadata": {},
   "outputs": [
    {
     "data": {
      "text/plain": [
       "array([0.88757759, 0.83102697, 0.77766217, 0.89410985, 0.89160999,\n",
       "       0.76335407, 0.91700927, 0.92000936, 0.90175009, 0.90397184])"
      ]
     },
     "execution_count": 58,
     "metadata": {},
     "output_type": "execute_result"
    }
   ],
   "source": [
    "cross_val_score(ET_model, X_train, y_train, cv=10)"
   ]
  },
  {
   "cell_type": "code",
   "execution_count": 35,
   "metadata": {},
   "outputs": [],
   "source": [
    "# Результаты регрессии сильно варьируются от запуска к запуску, поэтому результат надо усреднять. \n",
    "# У среднего хотя бы пара разрядов после запятой не пляшет\n",
    "# Model added\n",
    "def run_many_model(rm, features, target, num_runs=1000):\n",
    "    \n",
    "    result = 0\n",
    "    max_score = -100\n",
    "    min_score = 1\n",
    "    \n",
    "    for i in range(num_runs):\n",
    "        X_train, X_test, y_train, y_test = train_test_split(features, target, test_size=0.3)\n",
    "        model = rm\n",
    "        model.fit(X_train, y_train)\n",
    "        cur_score = model.score(X_test, y_test)\n",
    "        result += cur_score\n",
    "        if cur_score > max_score:\n",
    "            max_score = cur_score\n",
    "        if cur_score < min_score:\n",
    "            min_score = cur_score\n",
    "        if i%100 == 0:\n",
    "            print('Current run:', i)\n",
    "            \n",
    "    result = result / num_runs\n",
    "        \n",
    "    return result, max_score, min_score"
   ]
  },
  {
   "cell_type": "code",
   "execution_count": 59,
   "metadata": {},
   "outputs": [],
   "source": [
    "# run_many_model(ET_model, X_train, y_train)"
   ]
  },
  {
   "cell_type": "markdown",
   "metadata": {},
   "source": [
    "## Gradient Boost tuning"
   ]
  },
  {
   "cell_type": "code",
   "execution_count": 37,
   "metadata": {},
   "outputs": [
    {
     "data": {
      "text/plain": [
       "{'n_estimators': [10, 30, 100, 300, 500, 1000],\n",
       " 'max_depth': [1, 3, 5, 7, 9, 11, 13, 15, 17, 19]}"
      ]
     },
     "execution_count": 37,
     "metadata": {},
     "output_type": "execute_result"
    }
   ],
   "source": [
    "# will use params from previous model\n",
    "param_grid"
   ]
  },
  {
   "cell_type": "code",
   "execution_count": 38,
   "metadata": {},
   "outputs": [],
   "source": [
    "model = GradientBoostingRegressor(loss='ls')"
   ]
  },
  {
   "cell_type": "code",
   "execution_count": 39,
   "metadata": {},
   "outputs": [],
   "source": [
    "grid = GridSearchCV(model, param_grid, cv=10, scoring='neg_mean_squared_error', n_jobs=-1, verbose=1)"
   ]
  },
  {
   "cell_type": "code",
   "execution_count": 40,
   "metadata": {},
   "outputs": [
    {
     "name": "stdout",
     "output_type": "stream",
     "text": [
      "Fitting 10 folds for each of 60 candidates, totalling 600 fits\n"
     ]
    },
    {
     "name": "stderr",
     "output_type": "stream",
     "text": [
      "[Parallel(n_jobs=-1)]: Using backend LokyBackend with 4 concurrent workers.\n",
      "[Parallel(n_jobs=-1)]: Done  80 tasks      | elapsed:    4.6s\n",
      "[Parallel(n_jobs=-1)]: Done 330 tasks      | elapsed:   22.4s\n",
      "[Parallel(n_jobs=-1)]: Done 580 tasks      | elapsed:   43.3s\n",
      "[Parallel(n_jobs=-1)]: Done 600 out of 600 | elapsed:   46.1s finished\n",
      "C:\\ProgramData\\Anaconda3\\lib\\site-packages\\sklearn\\model_selection\\_search.py:813: DeprecationWarning: The default of the `iid` parameter will change from True to False in version 0.22 and will be removed in 0.24. This will change numeric results when test-set sizes are unequal.\n",
      "  DeprecationWarning)\n"
     ]
    },
    {
     "data": {
      "text/plain": [
       "GridSearchCV(cv=10, error_score='raise-deprecating',\n",
       "             estimator=GradientBoostingRegressor(alpha=0.9,\n",
       "                                                 criterion='friedman_mse',\n",
       "                                                 init=None, learning_rate=0.1,\n",
       "                                                 loss='ls', max_depth=3,\n",
       "                                                 max_features=None,\n",
       "                                                 max_leaf_nodes=None,\n",
       "                                                 min_impurity_decrease=0.0,\n",
       "                                                 min_impurity_split=None,\n",
       "                                                 min_samples_leaf=1,\n",
       "                                                 min_samples_split=2,\n",
       "                                                 min_weight_fraction_leaf=0.0,\n",
       "                                                 n_estimators=100,\n",
       "                                                 n_iter_no_change=None,\n",
       "                                                 presort='auto',\n",
       "                                                 random_state=None,\n",
       "                                                 subsample=1.0, tol=0.0001,\n",
       "                                                 validation_fraction=0.1,\n",
       "                                                 verbose=0, warm_start=False),\n",
       "             iid='warn', n_jobs=-1,\n",
       "             param_grid={'max_depth': [1, 3, 5, 7, 9, 11, 13, 15, 17, 19],\n",
       "                         'n_estimators': [10, 30, 100, 300, 500, 1000]},\n",
       "             pre_dispatch='2*n_jobs', refit=True, return_train_score=False,\n",
       "             scoring='neg_mean_squared_error', verbose=1)"
      ]
     },
     "execution_count": 40,
     "metadata": {},
     "output_type": "execute_result"
    }
   ],
   "source": [
    "grid.fit(X_train, y_train)"
   ]
  },
  {
   "cell_type": "code",
   "execution_count": 41,
   "metadata": {},
   "outputs": [
    {
     "data": {
      "text/plain": [
       "GradientBoostingRegressor(alpha=0.9, criterion='friedman_mse', init=None,\n",
       "                          learning_rate=0.1, loss='ls', max_depth=3,\n",
       "                          max_features=None, max_leaf_nodes=None,\n",
       "                          min_impurity_decrease=0.0, min_impurity_split=None,\n",
       "                          min_samples_leaf=1, min_samples_split=2,\n",
       "                          min_weight_fraction_leaf=0.0, n_estimators=300,\n",
       "                          n_iter_no_change=None, presort='auto',\n",
       "                          random_state=None, subsample=1.0, tol=0.0001,\n",
       "                          validation_fraction=0.1, verbose=0, warm_start=False)"
      ]
     },
     "execution_count": 41,
     "metadata": {},
     "output_type": "execute_result"
    }
   ],
   "source": [
    "grid.best_estimator_"
   ]
  },
  {
   "cell_type": "code",
   "execution_count": 42,
   "metadata": {},
   "outputs": [],
   "source": [
    "GB_model = grid.best_estimator_"
   ]
  },
  {
   "cell_type": "code",
   "execution_count": 43,
   "metadata": {},
   "outputs": [],
   "source": [
    "preds = GB_model.predict(X_test)"
   ]
  },
  {
   "cell_type": "code",
   "execution_count": 44,
   "metadata": {},
   "outputs": [
    {
     "name": "stdout",
     "output_type": "stream",
     "text": [
      "R2: \t 0.8749882112187877\n",
      "RMSE: \t 2.517623951641858\n",
      "MAE: \t 1.8512040240573129\n"
     ]
    }
   ],
   "source": [
    "print_scores(y_test, preds)"
   ]
  },
  {
   "cell_type": "markdown",
   "metadata": {},
   "source": [
    "# CatBoost Tuning"
   ]
  },
  {
   "cell_type": "code",
   "execution_count": 70,
   "metadata": {},
   "outputs": [
    {
     "data": {
      "text/plain": [
       "{'iterations': [10, 30, 100, 300], 'depth': [1, 3, 5, 7, 9, 11, 13, 15]}"
      ]
     },
     "execution_count": 70,
     "metadata": {},
     "output_type": "execute_result"
    }
   ],
   "source": [
    "m_depth = [1, 3, 5, 7, 9, 11, 13, 15]\n",
    "param_grid = dict(iterations=iters, depth=m_depth)\n",
    "param_grid"
   ]
  },
  {
   "cell_type": "code",
   "execution_count": 71,
   "metadata": {},
   "outputs": [],
   "source": [
    "model = CatBoostRegressor(verbose=0)"
   ]
  },
  {
   "cell_type": "code",
   "execution_count": 72,
   "metadata": {},
   "outputs": [],
   "source": [
    "grid = GridSearchCV(model, param_grid, cv=10, scoring='neg_mean_squared_error', n_jobs=-1, verbose=1)"
   ]
  },
  {
   "cell_type": "code",
   "execution_count": 73,
   "metadata": {},
   "outputs": [
    {
     "name": "stdout",
     "output_type": "stream",
     "text": [
      "Fitting 10 folds for each of 32 candidates, totalling 320 fits\n"
     ]
    },
    {
     "name": "stderr",
     "output_type": "stream",
     "text": [
      "[Parallel(n_jobs=-1)]: Using backend LokyBackend with 4 concurrent workers.\n",
      "[Parallel(n_jobs=-1)]: Done  42 tasks      | elapsed:    7.4s\n",
      "[Parallel(n_jobs=-1)]: Done 192 tasks      | elapsed:   52.9s\n",
      "[Parallel(n_jobs=-1)]: Done 320 out of 320 | elapsed: 83.5min finished\n",
      "C:\\ProgramData\\Anaconda3\\lib\\site-packages\\sklearn\\model_selection\\_search.py:813: DeprecationWarning: The default of the `iid` parameter will change from True to False in version 0.22 and will be removed in 0.24. This will change numeric results when test-set sizes are unequal.\n",
      "  DeprecationWarning)\n"
     ]
    },
    {
     "data": {
      "text/plain": [
       "GridSearchCV(cv=10, error_score='raise-deprecating',\n",
       "             estimator=<catboost.core.CatBoostRegressor object at 0x000000000E760BA8>,\n",
       "             iid='warn', n_jobs=-1,\n",
       "             param_grid={'depth': [1, 3, 5, 7, 9, 11, 13, 15],\n",
       "                         'iterations': [10, 30, 100, 300]},\n",
       "             pre_dispatch='2*n_jobs', refit=True, return_train_score=False,\n",
       "             scoring='neg_mean_squared_error', verbose=1)"
      ]
     },
     "execution_count": 73,
     "metadata": {},
     "output_type": "execute_result"
    }
   ],
   "source": [
    "grid.fit(X_train, y_train)"
   ]
  },
  {
   "cell_type": "code",
   "execution_count": 75,
   "metadata": {},
   "outputs": [],
   "source": [
    "CB_model = grid.best_estimator_"
   ]
  },
  {
   "cell_type": "code",
   "execution_count": 79,
   "metadata": {},
   "outputs": [
    {
     "data": {
      "text/plain": [
       "{'depth': 5, 'iterations': 300}"
      ]
     },
     "execution_count": 79,
     "metadata": {},
     "output_type": "execute_result"
    }
   ],
   "source": [
    "grid.best_params_\n"
   ]
  },
  {
   "cell_type": "code",
   "execution_count": 93,
   "metadata": {},
   "outputs": [
    {
     "data": {
      "text/plain": [
       "<catboost.core.CatBoostRegressor at 0xc5399b0>"
      ]
     },
     "execution_count": 93,
     "metadata": {},
     "output_type": "execute_result"
    }
   ],
   "source": [
    "CB_model.fit(X_train, y_train)"
   ]
  },
  {
   "cell_type": "code",
   "execution_count": 94,
   "metadata": {},
   "outputs": [],
   "source": [
    "preds = CB_model.predict(X_test)"
   ]
  },
  {
   "cell_type": "code",
   "execution_count": 95,
   "metadata": {},
   "outputs": [
    {
     "name": "stdout",
     "output_type": "stream",
     "text": [
      "R2: \t 0.8724670071991127\n",
      "RMSE: \t 2.5428846051070906\n",
      "MAE: \t 1.9236712052018066\n"
     ]
    }
   ],
   "source": [
    "print_scores(y_test, preds)"
   ]
  },
  {
   "cell_type": "markdown",
   "metadata": {},
   "source": [
    "# Scores once more:"
   ]
  },
  {
   "cell_type": "code",
   "execution_count": 98,
   "metadata": {},
   "outputs": [],
   "source": [
    "models = [LGBM_model, ET_model, GB_model, CB_model]"
   ]
  },
  {
   "cell_type": "code",
   "execution_count": 103,
   "metadata": {},
   "outputs": [
    {
     "name": "stdout",
     "output_type": "stream",
     "text": [
      "LGBMRegressor(bagging_fraction=0.25, boosting_type='gbdt', class_weight=None,\n",
      "              colsample_bytree=1.0, importance_type='split', learning_rate=0.03,\n",
      "              max_depth=-1, min_child_samples=20, min_child_weight=0.001,\n",
      "              min_data_in_leaf=10, min_split_gain=0.0, n_estimators=100,\n",
      "              n_iter=300, n_jobs=-1, num_leaves=31, objective='regression_l1',\n",
      "              random_state=None, reg_alpha=0.0, reg_lambda=0.0, silent=True,\n",
      "              subsample=1.0, subsample_for_bin=200000, subsample_freq=0)\n",
      "R2: \t 0.8569488014656543\n",
      "RMSE: \t 2.693153623783459\n",
      "MAE: \t 2.0725595588510006\n",
      "\n",
      "\n",
      "\n",
      "ExtraTreesRegressor(bootstrap=False, criterion='mse', max_depth=15,\n",
      "                    max_features='auto', max_leaf_nodes=None,\n",
      "                    min_impurity_decrease=0.0, min_impurity_split=None,\n",
      "                    min_samples_leaf=1, min_samples_split=2,\n",
      "                    min_weight_fraction_leaf=0.0, n_estimators=300, n_jobs=None,\n",
      "                    oob_score=False, random_state=None, verbose=0,\n",
      "                    warm_start=False)\n",
      "R2: \t 0.8971198139608294\n",
      "RMSE: \t 2.2839218918632356\n",
      "MAE: \t 1.649597766298583\n",
      "\n",
      "\n",
      "\n",
      "GradientBoostingRegressor(alpha=0.9, criterion='friedman_mse', init=None,\n",
      "                          learning_rate=0.1, loss='ls', max_depth=3,\n",
      "                          max_features=None, max_leaf_nodes=None,\n",
      "                          min_impurity_decrease=0.0, min_impurity_split=None,\n",
      "                          min_samples_leaf=1, min_samples_split=2,\n",
      "                          min_weight_fraction_leaf=0.0, n_estimators=300,\n",
      "                          n_iter_no_change=None, presort='auto',\n",
      "                          random_state=None, subsample=1.0, tol=0.0001,\n",
      "                          validation_fraction=0.1, verbose=0, warm_start=False)\n",
      "R2: \t 0.8749882112187877\n",
      "RMSE: \t 2.517623951641858\n",
      "MAE: \t 1.8512040240573129\n",
      "\n",
      "\n",
      "\n",
      "<catboost.core.CatBoostRegressor object at 0x000000000C5399B0>\n",
      "R2: \t 0.8724670071991127\n",
      "RMSE: \t 2.5428846051070906\n",
      "MAE: \t 1.9236712052018066\n",
      "\n",
      "\n",
      "\n",
      "Cumulative score:\n",
      "R2: \t 0.8848148137161413\n",
      "RMSE: \t 2.4166496364908516\n",
      "MAE: \t 1.7985963131844982\n"
     ]
    }
   ],
   "source": [
    "total_preds = [0]*len(y_test)\n",
    "for cur in models:\n",
    "    preds = cur.predict(X_test)\n",
    "    total_preds += preds\n",
    "    print(cur)\n",
    "    print_scores(y_test, preds)\n",
    "    print('\\n\\n')\n",
    "    \n",
    "total_preds = total_preds/len(models)\n",
    "print('Cumulative score:')\n",
    "print_scores(y_test, total_preds)"
   ]
  },
  {
   "cell_type": "markdown",
   "metadata": {},
   "source": [
    "Комбинирование решений не привело к улучшению оценок, тем не менее на случайных подвыборках средние результаты оказываются более стабильными. "
   ]
  }
 ],
 "metadata": {
  "kernelspec": {
   "display_name": "Python 3",
   "language": "python",
   "name": "python3"
  },
  "language_info": {
   "codemirror_mode": {
    "name": "ipython",
    "version": 3
   },
   "file_extension": ".py",
   "mimetype": "text/x-python",
   "name": "python",
   "nbconvert_exporter": "python",
   "pygments_lexer": "ipython3",
   "version": "3.7.3"
  }
 },
 "nbformat": 4,
 "nbformat_minor": 4
}
